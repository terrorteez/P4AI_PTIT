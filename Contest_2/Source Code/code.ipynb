{
 "cells": [
  {
   "cell_type": "code",
   "execution_count": 55,
   "metadata": {},
   "outputs": [],
   "source": [
    "import pandas as pd\n",
    "from typing import Tuple, List, Dict\n",
    "from tabulate import tabulate\n",
    "from sklearn.preprocessing import LabelEncoder\n",
    "import matplotlib.pyplot as plt\n",
    "import seaborn as sns\n",
    "import numpy as np\n",
    "import string\n",
    "import nltk\n",
    "import pandas as pd\n",
    "from nltk.corpus import stopwords\n",
    "from sklearn import metrics\n",
    "from sklearn.feature_extraction.text import CountVectorizer\n",
    "from sklearn.model_selection import train_test_split"
   ]
  },
  {
   "cell_type": "code",
   "execution_count": 56,
   "metadata": {},
   "outputs": [],
   "source": [
    "notspam = np.arange(0, 193)\n",
    "spam = np.arange(0, 18)\n",
    "\n",
    "df_list = []\n",
    "\n",
    "for ns in notspam : \n",
    "    df_tmp1 = pd.read_csv('BaiThi2/TrainData/notspam/{}_notspam.txt'.format(ns))\n",
    "    df_tmp1.drop(df_tmp1.columns[[0]], axis = 1, inplace = True)\n",
    "    f = open('BaiThi2/TrainData/notspam/{}_notspam.txt'.format(ns), \"r\")\n",
    "    df_tmp1['message'] = f.read()\n",
    "    df_tmp1['Label'] = 'notspam'\n",
    "    df_list.append(df_tmp1)\n",
    "\n",
    "for s in spam : \n",
    "    df_tmp2 = pd.read_csv('BaiThi2/TrainData/spam/{}_spam.txt'.format(s))\n",
    "    df_tmp2.drop(df_tmp2.columns[[0]], axis = 1, inplace = True)\n",
    "    f2 = open('BaiThi2/TrainData/spam/{}_spam.txt'.format(s), \"r\")\n",
    "    df_tmp2['message'] = f2.read()\n",
    "    df_tmp2['Label'] = 'spam'\n",
    "    df_list.append(df_tmp2)\n"
   ]
  },
  {
   "cell_type": "code",
   "execution_count": 57,
   "metadata": {},
   "outputs": [
    {
     "data": {
      "text/html": [
       "<div>\n",
       "<style scoped>\n",
       "    .dataframe tbody tr th:only-of-type {\n",
       "        vertical-align: middle;\n",
       "    }\n",
       "\n",
       "    .dataframe tbody tr th {\n",
       "        vertical-align: top;\n",
       "    }\n",
       "\n",
       "    .dataframe thead th {\n",
       "        text-align: right;\n",
       "    }\n",
       "</style>\n",
       "<table border=\"1\" class=\"dataframe\">\n",
       "  <thead>\n",
       "    <tr style=\"text-align: right;\">\n",
       "      <th></th>\n",
       "      <th></th>\n",
       "      <th></th>\n",
       "      <th></th>\n",
       "      <th></th>\n",
       "      <th></th>\n",
       "      <th></th>\n",
       "      <th></th>\n",
       "      <th></th>\n",
       "      <th>message</th>\n",
       "      <th>Label</th>\n",
       "    </tr>\n",
       "  </thead>\n",
       "  <tbody>\n",
       "    <tr>\n",
       "      <th>&gt; date : sun</th>\n",
       "      <th>15 dec 91 02 : 25 : 02 est &gt; : michael &lt; mmorse @ vm1 . yorku . ca &gt; &gt; subject : re : 2 . 864 queries &gt; &gt; wlodek zadrozny asks is \" anything interesting \" said &gt; construction \" s &gt; np np \" . . . second</th>\n",
       "      <th>&gt; much related : might consider construction form &gt; has been discussed list late reduplication ? &gt; logical sense \" john mcnamara name \" is tautologous thus</th>\n",
       "      <th>&gt; level</th>\n",
       "      <th>indistinguishable \"</th>\n",
       "      <th></th>\n",
       "      <th>here ? \" . ' john mcnamara name ' is tautologous is support those logic-based semantics is irrelevant natural language . sense is tautologous ? supplies value attribute followed attribute is value . fact value name-attribute relevant entity were ' chaim shmendrik '</th>\n",
       "      <th>' john mcnamara name ' false . tautology</th>\n",
       "      <th>. ( reduplication</th>\n",
       "      <td>Subject: re : 2 . 882 s - &gt; np np\\n\\n&gt; date : ...</td>\n",
       "      <td>notspam</td>\n",
       "    </tr>\n",
       "  </tbody>\n",
       "</table>\n",
       "</div>"
      ],
      "text/plain": [
       "                                                                                                                                                                                                                                                                                                                   message  \\\n",
       "> date : sun   15 dec 91 02 : 25 : 02 est > : michael < mmors...  > much related : might consider construction f...  > level   indistinguishable \"     here ? \" . ' john mcnamara name ' is tautologo...  ' john mcnamara name ' false . tautology   . ( reduplication   Subject: re : 2 . 882 s - > np np\\n\\n> date : ...   \n",
       "\n",
       "                                                                                                                                                                                                                                                                           Label  \n",
       "> date : sun   15 dec 91 02 : 25 : 02 est > : michael < mmors...  > much related : might consider construction f...  > level   indistinguishable \"     here ? \" . ' john mcnamara name ' is tautologo...  ' john mcnamara name ' false . tautology   . ( reduplication   notspam  "
      ]
     },
     "execution_count": 57,
     "metadata": {},
     "output_type": "execute_result"
    }
   ],
   "source": [
    "df_list[0]"
   ]
  },
  {
   "cell_type": "code",
   "execution_count": 58,
   "metadata": {},
   "outputs": [
    {
     "data": {
      "text/html": [
       "<div>\n",
       "<style scoped>\n",
       "    .dataframe tbody tr th:only-of-type {\n",
       "        vertical-align: middle;\n",
       "    }\n",
       "\n",
       "    .dataframe tbody tr th {\n",
       "        vertical-align: top;\n",
       "    }\n",
       "\n",
       "    .dataframe thead th {\n",
       "        text-align: right;\n",
       "    }\n",
       "</style>\n",
       "<table border=\"1\" class=\"dataframe\">\n",
       "  <thead>\n",
       "    <tr style=\"text-align: right;\">\n",
       "      <th></th>\n",
       "      <th>message</th>\n",
       "      <th>Label</th>\n",
       "    </tr>\n",
       "  </thead>\n",
       "  <tbody>\n",
       "    <tr>\n",
       "      <th>0</th>\n",
       "      <td>Subject: re : 2 . 882 s - &gt; np np\\n\\n&gt; date : ...</td>\n",
       "      <td>notspam</td>\n",
       "    </tr>\n",
       "    <tr>\n",
       "      <th>1</th>\n",
       "      <td>Subject: s - &gt; np + np\\n\\ndiscussion s - &gt; np ...</td>\n",
       "      <td>notspam</td>\n",
       "    </tr>\n",
       "    <tr>\n",
       "      <th>2</th>\n",
       "      <td>Subject: 2 . 882 s - &gt; np np\\n\\n. . . 's much ...</td>\n",
       "      <td>notspam</td>\n",
       "    </tr>\n",
       "    <tr>\n",
       "      <th>3</th>\n",
       "      <td>Subject: gent conference\\n\\n\" listserv \" inter...</td>\n",
       "      <td>notspam</td>\n",
       "    </tr>\n",
       "    <tr>\n",
       "      <th>4</th>\n",
       "      <td>Subject: query : causatives korean\\n\\nanyone p...</td>\n",
       "      <td>notspam</td>\n",
       "    </tr>\n",
       "    <tr>\n",
       "      <th>...</th>\n",
       "      <td>...</td>\n",
       "      <td>...</td>\n",
       "    </tr>\n",
       "    <tr>\n",
       "      <th>206</th>\n",
       "      <td>Subject: `\\n\\nhello ! our naughty little city ...</td>\n",
       "      <td>spam</td>\n",
       "    </tr>\n",
       "    <tr>\n",
       "      <th>207</th>\n",
       "      <td>Subject: attract women ! ! ( 30740 )\\n\\nattrac...</td>\n",
       "      <td>spam</td>\n",
       "    </tr>\n",
       "    <tr>\n",
       "      <th>208</th>\n",
       "      <td>Subject: are serious . . . help retire 2 3 yea...</td>\n",
       "      <td>spam</td>\n",
       "    </tr>\n",
       "    <tr>\n",
       "      <th>209</th>\n",
       "      <td>Subject: \" complete home business kit ! ! \"\\n\\...</td>\n",
       "      <td>spam</td>\n",
       "    </tr>\n",
       "    <tr>\n",
       "      <th>210</th>\n",
       "      <td>Subject: advertisement\\n\\nmessage complies pro...</td>\n",
       "      <td>spam</td>\n",
       "    </tr>\n",
       "  </tbody>\n",
       "</table>\n",
       "<p>211 rows × 2 columns</p>\n",
       "</div>"
      ],
      "text/plain": [
       "                                               message    Label\n",
       "0    Subject: re : 2 . 882 s - > np np\\n\\n> date : ...  notspam\n",
       "1    Subject: s - > np + np\\n\\ndiscussion s - > np ...  notspam\n",
       "2    Subject: 2 . 882 s - > np np\\n\\n. . . 's much ...  notspam\n",
       "3    Subject: gent conference\\n\\n\" listserv \" inter...  notspam\n",
       "4    Subject: query : causatives korean\\n\\nanyone p...  notspam\n",
       "..                                                 ...      ...\n",
       "206  Subject: `\\n\\nhello ! our naughty little city ...     spam\n",
       "207  Subject: attract women ! ! ( 30740 )\\n\\nattrac...     spam\n",
       "208  Subject: are serious . . . help retire 2 3 yea...     spam\n",
       "209  Subject: \" complete home business kit ! ! \"\\n\\...     spam\n",
       "210  Subject: advertisement\\n\\nmessage complies pro...     spam\n",
       "\n",
       "[211 rows x 2 columns]"
      ]
     },
     "execution_count": 58,
     "metadata": {},
     "output_type": "execute_result"
    }
   ],
   "source": [
    "# df.drop(df.columns[[0]], axis = 1, inplace = True)\n",
    "df = pd.concat(df_list).reset_index(drop = True)\n",
    "# df.drop(df.columns[[2, 3, 4, 5, 6, 7, 8, 9, 10, 11, 12, 13]], axis = 1, inplace = True)\n",
    "df = df.iloc[ : , 0 : 2]\n",
    "df"
   ]
  },
  {
   "cell_type": "code",
   "execution_count": 59,
   "metadata": {},
   "outputs": [],
   "source": [
    "def text_preprocess(mess):\n",
    "    \"\"\"\n",
    "    Takes in a string of text, then performs the following:\n",
    "    1. Remove all punctuation\n",
    "    2. Remove all stopwords\n",
    "    3. Returns a list of the cleaned text\n",
    "    \"\"\"\n",
    "    # Check characters to see if they are in punctuation\n",
    "    nopunc = [char for char in mess if char not in string.punctuation]\n",
    "\n",
    "    # Join the characters again to form the string.\n",
    "    nopunc = ''.join(nopunc)\n",
    "    nopunc = nopunc.lower()\n",
    "    \n",
    "    # Now just remove any stopwords and non alphabets\n",
    "    nostop=[word for word in nopunc.split() if word.lower() not in stopwords.words('english') and word.isalpha()]\n",
    "    \n",
    "    return nostop"
   ]
  },
  {
   "cell_type": "code",
   "execution_count": 60,
   "metadata": {},
   "outputs": [
    {
     "name": "stdout",
     "output_type": "stream",
     "text": [
      "No of spam messages :  18\n",
      "No of notspam messages :  193\n"
     ]
    }
   ],
   "source": [
    "spam_messages = df[df[\"Label\"] == \"spam\"][\"message\"]\n",
    "notspam_messages = df[df[\"Label\"] == \"notspam\"][\"message\"]\n",
    "print(\"No of spam messages : \",len(spam_messages))\n",
    "print(\"No of notspam messages : \",len(notspam_messages))"
   ]
  },
  {
   "cell_type": "code",
   "execution_count": 61,
   "metadata": {},
   "outputs": [
    {
     "name": "stderr",
     "output_type": "stream",
     "text": [
      "[nltk_data] Downloading package stopwords to\n",
      "[nltk_data]     C:\\Users\\PC\\AppData\\Roaming\\nltk_data...\n",
      "[nltk_data]   Package stopwords is already up-to-date!\n"
     ]
    },
    {
     "name": "stdout",
     "output_type": "stream",
     "text": [
      "Top 10 spam words are:\n",
      " report         77\n",
      "email          49\n",
      "money          42\n",
      "information    38\n",
      "offshore       38\n",
      "mail           33\n",
      "order          29\n",
      "subject        27\n",
      "sell           25\n",
      "business       25\n",
      "dtype: int64\n"
     ]
    }
   ],
   "source": [
    "# Download stopwords\n",
    "nltk.download('stopwords')\n",
    "\n",
    "# Words in spam messages\n",
    "spam_words = []\n",
    "for each_message in spam_messages:\n",
    "    spam_words += text_preprocess(each_message)\n",
    "    \n",
    "print(f\"Top 10 spam words are:\\n {pd.Series(spam_words).value_counts().head(10)}\")"
   ]
  },
  {
   "cell_type": "code",
   "execution_count": 62,
   "metadata": {},
   "outputs": [
    {
     "data": {
      "text/html": [
       "<div>\n",
       "<style scoped>\n",
       "    .dataframe tbody tr th:only-of-type {\n",
       "        vertical-align: middle;\n",
       "    }\n",
       "\n",
       "    .dataframe tbody tr th {\n",
       "        vertical-align: top;\n",
       "    }\n",
       "\n",
       "    .dataframe thead th {\n",
       "        text-align: right;\n",
       "    }\n",
       "</style>\n",
       "<table border=\"1\" class=\"dataframe\">\n",
       "  <thead>\n",
       "    <tr style=\"text-align: right;\">\n",
       "      <th></th>\n",
       "      <th>message</th>\n",
       "      <th>Label</th>\n",
       "    </tr>\n",
       "  </thead>\n",
       "  <tbody>\n",
       "    <tr>\n",
       "      <th>0</th>\n",
       "      <td>[subject, np, np, date, sun, dec, est, michael...</td>\n",
       "      <td>notspam</td>\n",
       "    </tr>\n",
       "    <tr>\n",
       "      <th>1</th>\n",
       "      <td>[subject, np, np, discussion, np, np, reminds,...</td>\n",
       "      <td>notspam</td>\n",
       "    </tr>\n",
       "    <tr>\n",
       "      <th>2</th>\n",
       "      <td>[subject, np, np, much, restrictive, np, np, n...</td>\n",
       "      <td>notspam</td>\n",
       "    </tr>\n",
       "    <tr>\n",
       "      <th>3</th>\n",
       "      <td>[subject, gent, conference, listserv, internat...</td>\n",
       "      <td>notspam</td>\n",
       "    </tr>\n",
       "    <tr>\n",
       "      <th>4</th>\n",
       "      <td>[subject, query, causatives, korean, anyone, p...</td>\n",
       "      <td>notspam</td>\n",
       "    </tr>\n",
       "  </tbody>\n",
       "</table>\n",
       "</div>"
      ],
      "text/plain": [
       "                                             message    Label\n",
       "0  [subject, np, np, date, sun, dec, est, michael...  notspam\n",
       "1  [subject, np, np, discussion, np, np, reminds,...  notspam\n",
       "2  [subject, np, np, much, restrictive, np, np, n...  notspam\n",
       "3  [subject, gent, conference, listserv, internat...  notspam\n",
       "4  [subject, query, causatives, korean, anyone, p...  notspam"
      ]
     },
     "execution_count": 62,
     "metadata": {},
     "output_type": "execute_result"
    }
   ],
   "source": [
    "df[\"message\"] = df[\"message\"].apply(text_preprocess)\n",
    "df.head()\n"
   ]
  },
  {
   "cell_type": "code",
   "execution_count": 63,
   "metadata": {},
   "outputs": [
    {
     "data": {
      "text/html": [
       "<div>\n",
       "<style scoped>\n",
       "    .dataframe tbody tr th:only-of-type {\n",
       "        vertical-align: middle;\n",
       "    }\n",
       "\n",
       "    .dataframe tbody tr th {\n",
       "        vertical-align: top;\n",
       "    }\n",
       "\n",
       "    .dataframe thead th {\n",
       "        text-align: right;\n",
       "    }\n",
       "</style>\n",
       "<table border=\"1\" class=\"dataframe\">\n",
       "  <thead>\n",
       "    <tr style=\"text-align: right;\">\n",
       "      <th></th>\n",
       "      <th>message</th>\n",
       "      <th>Label</th>\n",
       "    </tr>\n",
       "  </thead>\n",
       "  <tbody>\n",
       "    <tr>\n",
       "      <th>0</th>\n",
       "      <td>subject np np date sun dec est michael mmorse ...</td>\n",
       "      <td>notspam</td>\n",
       "    </tr>\n",
       "    <tr>\n",
       "      <th>1</th>\n",
       "      <td>subject np np discussion np np reminds years a...</td>\n",
       "      <td>notspam</td>\n",
       "    </tr>\n",
       "    <tr>\n",
       "      <th>2</th>\n",
       "      <td>subject np np much restrictive np np np pro qu...</td>\n",
       "      <td>notspam</td>\n",
       "    </tr>\n",
       "    <tr>\n",
       "      <th>3</th>\n",
       "      <td>subject gent conference listserv international...</td>\n",
       "      <td>notspam</td>\n",
       "    </tr>\n",
       "    <tr>\n",
       "      <th>4</th>\n",
       "      <td>subject query causatives korean anyone point b...</td>\n",
       "      <td>notspam</td>\n",
       "    </tr>\n",
       "  </tbody>\n",
       "</table>\n",
       "</div>"
      ],
      "text/plain": [
       "                                             message    Label\n",
       "0  subject np np date sun dec est michael mmorse ...  notspam\n",
       "1  subject np np discussion np np reminds years a...  notspam\n",
       "2  subject np np much restrictive np np np pro qu...  notspam\n",
       "3  subject gent conference listserv international...  notspam\n",
       "4  subject query causatives korean anyone point b...  notspam"
      ]
     },
     "execution_count": 63,
     "metadata": {},
     "output_type": "execute_result"
    }
   ],
   "source": [
    "# Convert messages (as lists of string tokens) to strings\n",
    "df[\"message\"] = df[\"message\"].agg(lambda x: \" \".join(map(str, x)))\n",
    "df.head()\n"
   ]
  },
  {
   "cell_type": "code",
   "execution_count": 64,
   "metadata": {},
   "outputs": [
    {
     "name": "stdout",
     "output_type": "stream",
     "text": [
      "20 BOW Features: ['ableist', 'ablock', 'aborigen', 'aborigenes', 'aboriginal', 'abound', 'abrahamsen', 'abreviaturas', 'abril', 'absence', 'absolute', 'absolutely', 'abstract', 'abstractness', 'abstracts', 'abstractsdeadline', 'ac', 'academe', 'academia', 'academic']\n",
      "Total number of vocab words: 10343\n"
     ]
    },
    {
     "name": "stderr",
     "output_type": "stream",
     "text": [
      "c:\\Users\\PC\\AppData\\Local\\Programs\\Python\\Python311\\Lib\\site-packages\\sklearn\\utils\\deprecation.py:87: FutureWarning: Function get_feature_names is deprecated; get_feature_names is deprecated in 1.0 and will be removed in 1.2. Please use get_feature_names_out instead.\n",
      "  warnings.warn(msg, category=FutureWarning)\n"
     ]
    }
   ],
   "source": [
    "vectorizer = CountVectorizer()\n",
    "bow_transformer = vectorizer.fit(df[\"message\"])\n",
    "\n",
    "# Fetch the vocabulary set\n",
    "print(f\"20 BOW Features: {vectorizer.get_feature_names()[20:40]}\")\n",
    "print(f\"Total number of vocab words: {len(vectorizer.vocabulary_)}\")"
   ]
  },
  {
   "cell_type": "code",
   "execution_count": 65,
   "metadata": {},
   "outputs": [
    {
     "name": "stdout",
     "output_type": "stream",
     "text": [
      "Shape of sparse matrix: (211, 10343)\n",
      "Amount of non-zero occurrences: 26221\n"
     ]
    }
   ],
   "source": [
    "# Convert strings to vectors using BoW\n",
    "messages_bow = bow_transformer.transform(df[\"message\"])\n",
    "\n",
    "# Print the shape of the sparse matrix and count the number of non-zero occurrences\n",
    "print(f\"Shape of sparse matrix: {messages_bow.shape}\")\n",
    "print(f\"Amount of non-zero occurrences: {messages_bow.nnz}\")"
   ]
  },
  {
   "cell_type": "code",
   "execution_count": 66,
   "metadata": {},
   "outputs": [
    {
     "name": "stdout",
     "output_type": "stream",
     "text": [
      "(211, 10343)\n"
     ]
    }
   ],
   "source": [
    "# TF-IDF\n",
    "from sklearn.feature_extraction.text import TfidfTransformer\n",
    "\n",
    "tfidf_transformer = TfidfTransformer().fit(messages_bow)\n",
    "\n",
    "# Transform entire BoW into tf-idf corpus\n",
    "messages_tfidf = tfidf_transformer.transform(messages_bow)\n",
    "print(messages_tfidf.shape)"
   ]
  },
  {
   "cell_type": "code",
   "execution_count": 67,
   "metadata": {},
   "outputs": [
    {
     "data": {
      "text/html": [
       "<div>\n",
       "<style scoped>\n",
       "    .dataframe tbody tr th:only-of-type {\n",
       "        vertical-align: middle;\n",
       "    }\n",
       "\n",
       "    .dataframe tbody tr th {\n",
       "        vertical-align: top;\n",
       "    }\n",
       "\n",
       "    .dataframe thead th {\n",
       "        text-align: right;\n",
       "    }\n",
       "</style>\n",
       "<table border=\"1\" class=\"dataframe\">\n",
       "  <thead>\n",
       "    <tr style=\"text-align: right;\">\n",
       "      <th></th>\n",
       "      <th>message</th>\n",
       "      <th>Label</th>\n",
       "    </tr>\n",
       "  </thead>\n",
       "  <tbody>\n",
       "    <tr>\n",
       "      <th>0</th>\n",
       "      <td>subject np np date sun dec est michael mmorse ...</td>\n",
       "      <td>0</td>\n",
       "    </tr>\n",
       "    <tr>\n",
       "      <th>1</th>\n",
       "      <td>subject np np discussion np np reminds years a...</td>\n",
       "      <td>0</td>\n",
       "    </tr>\n",
       "    <tr>\n",
       "      <th>2</th>\n",
       "      <td>subject np np much restrictive np np np pro qu...</td>\n",
       "      <td>0</td>\n",
       "    </tr>\n",
       "    <tr>\n",
       "      <th>3</th>\n",
       "      <td>subject gent conference listserv international...</td>\n",
       "      <td>0</td>\n",
       "    </tr>\n",
       "    <tr>\n",
       "      <th>4</th>\n",
       "      <td>subject query causatives korean anyone point b...</td>\n",
       "      <td>0</td>\n",
       "    </tr>\n",
       "  </tbody>\n",
       "</table>\n",
       "</div>"
      ],
      "text/plain": [
       "                                             message  Label\n",
       "0  subject np np date sun dec est michael mmorse ...      0\n",
       "1  subject np np discussion np np reminds years a...      0\n",
       "2  subject np np much restrictive np np np pro qu...      0\n",
       "3  subject gent conference listserv international...      0\n",
       "4  subject query causatives korean anyone point b...      0"
      ]
     },
     "execution_count": 67,
     "metadata": {},
     "output_type": "execute_result"
    }
   ],
   "source": [
    "# Convert spam and ham labels to 0 and 1 (or, vice-versa)\n",
    "FactorResult = pd.factorize(df[\"Label\"])\n",
    "df[\"Label\"] = FactorResult[0]\n",
    "df.head()"
   ]
  },
  {
   "cell_type": "code",
   "execution_count": 69,
   "metadata": {},
   "outputs": [
    {
     "name": "stdout",
     "output_type": "stream",
     "text": [
      "  (0, 9820)\t0.1369406638798837\n",
      "  (0, 9560)\t0.1758358780611115\n",
      "  (0, 9378)\t0.1758358780611115\n",
      "  (0, 9287)\t0.351671756122223\n",
      "  (0, 9244)\t0.12020614596536597\n",
      "  (0, 8929)\t0.031047544634834577\n",
      "  (0, 8499)\t0.14172666399231057\n",
      "  (0, 8182)\t0.1758358780611115\n",
      "  (0, 8181)\t0.16324718201925525\n",
      "  (0, 8077)\t0.15431536003416688\n",
      "  (0, 7673)\t0.10593879545783934\n",
      "  (0, 7467)\t0.16324718201925525\n",
      "  (0, 7352)\t0.09502875388165342\n",
      "  (0, 7331)\t0.1758358780611115\n",
      "  (0, 7283)\t0.15431536003416688\n",
      "  (0, 6221)\t0.11127432398027758\n",
      "  (0, 5709)\t0.1758358780611115\n",
      "  (0, 5674)\t0.1758358780611115\n",
      "  (0, 5352)\t0.1758358780611115\n",
      "  (0, 5309)\t0.1758358780611115\n",
      "  (0, 4245)\t0.16324718201925525\n",
      "  (0, 3842)\t0.1758358780611115\n",
      "  (0, 3538)\t0.08524626102251089\n",
      "  (0, 2970)\t0.15431536003416688\n",
      "  (0, 2862)\t0.07182958138903842\n",
      "  :\t:\n",
      "  (167, 2504)\t0.06774509912578264\n",
      "  (167, 2433)\t0.11762882252746124\n",
      "  (167, 2342)\t0.056828293965888864\n",
      "  (167, 2289)\t0.23380150945070907\n",
      "  (167, 2174)\t0.05881441126373062\n",
      "  (167, 2028)\t0.07296921663072864\n",
      "  (167, 1992)\t0.06403852876867665\n",
      "  (167, 1828)\t0.07296921663072864\n",
      "  (167, 1634)\t0.13549019825156527\n",
      "  (167, 1573)\t0.07296921663072864\n",
      "  (167, 1461)\t0.06403852876867665\n",
      "  (167, 1428)\t0.07296921663072864\n",
      "  (167, 1401)\t0.06774509912578264\n",
      "  (167, 1359)\t0.07296921663072864\n",
      "  (167, 1025)\t0.07296921663072864\n",
      "  (167, 1000)\t0.07296921663072864\n",
      "  (167, 972)\t0.07296921663072864\n",
      "  (167, 775)\t0.06403852876867665\n",
      "  (167, 544)\t0.07296921663072864\n",
      "  (167, 515)\t0.06116348943921254\n",
      "  (167, 504)\t0.07296921663072864\n",
      "  (167, 452)\t0.07296921663072864\n",
      "  (167, 436)\t0.14593843326145728\n",
      "  (167, 392)\t0.06403852876867665\n",
      "  (167, 127)\t0.07296921663072864\n",
      "train dataset features size: (168, 10343)\n",
      "train dataset label size: (168,)\n",
      "test dataset features size: (43, 10343)\n",
      "test dataset label size: (43,)\n"
     ]
    }
   ],
   "source": [
    "# Split the dataset to train and test sets\n",
    "msg_train, msg_test, label_train, label_test = train_test_split(\n",
    "    messages_tfidf, df[\"Label\"], test_size=0.2\n",
    ")\n",
    "print(msg_train)\n",
    "print(f\"train dataset features size: {msg_train.shape}\")\n",
    "print(f\"train dataset label size: {label_train.shape}\")\n",
    "\n",
    "print(f\"test dataset features size: {msg_test.shape}\")\n",
    "print(f\"test dataset label size: {label_test.shape}\")"
   ]
  },
  {
   "cell_type": "code",
   "execution_count": null,
   "metadata": {},
   "outputs": [
    {
     "data": {
      "text/html": [
       "<style>#sk-container-id-2 {color: black;background-color: white;}#sk-container-id-2 pre{padding: 0;}#sk-container-id-2 div.sk-toggleable {background-color: white;}#sk-container-id-2 label.sk-toggleable__label {cursor: pointer;display: block;width: 100%;margin-bottom: 0;padding: 0.3em;box-sizing: border-box;text-align: center;}#sk-container-id-2 label.sk-toggleable__label-arrow:before {content: \"▸\";float: left;margin-right: 0.25em;color: #696969;}#sk-container-id-2 label.sk-toggleable__label-arrow:hover:before {color: black;}#sk-container-id-2 div.sk-estimator:hover label.sk-toggleable__label-arrow:before {color: black;}#sk-container-id-2 div.sk-toggleable__content {max-height: 0;max-width: 0;overflow: hidden;text-align: left;background-color: #f0f8ff;}#sk-container-id-2 div.sk-toggleable__content pre {margin: 0.2em;color: black;border-radius: 0.25em;background-color: #f0f8ff;}#sk-container-id-2 input.sk-toggleable__control:checked~div.sk-toggleable__content {max-height: 200px;max-width: 100%;overflow: auto;}#sk-container-id-2 input.sk-toggleable__control:checked~label.sk-toggleable__label-arrow:before {content: \"▾\";}#sk-container-id-2 div.sk-estimator input.sk-toggleable__control:checked~label.sk-toggleable__label {background-color: #d4ebff;}#sk-container-id-2 div.sk-label input.sk-toggleable__control:checked~label.sk-toggleable__label {background-color: #d4ebff;}#sk-container-id-2 input.sk-hidden--visually {border: 0;clip: rect(1px 1px 1px 1px);clip: rect(1px, 1px, 1px, 1px);height: 1px;margin: -1px;overflow: hidden;padding: 0;position: absolute;width: 1px;}#sk-container-id-2 div.sk-estimator {font-family: monospace;background-color: #f0f8ff;border: 1px dotted black;border-radius: 0.25em;box-sizing: border-box;margin-bottom: 0.5em;}#sk-container-id-2 div.sk-estimator:hover {background-color: #d4ebff;}#sk-container-id-2 div.sk-parallel-item::after {content: \"\";width: 100%;border-bottom: 1px solid gray;flex-grow: 1;}#sk-container-id-2 div.sk-label:hover label.sk-toggleable__label {background-color: #d4ebff;}#sk-container-id-2 div.sk-serial::before {content: \"\";position: absolute;border-left: 1px solid gray;box-sizing: border-box;top: 0;bottom: 0;left: 50%;z-index: 0;}#sk-container-id-2 div.sk-serial {display: flex;flex-direction: column;align-items: center;background-color: white;padding-right: 0.2em;padding-left: 0.2em;position: relative;}#sk-container-id-2 div.sk-item {position: relative;z-index: 1;}#sk-container-id-2 div.sk-parallel {display: flex;align-items: stretch;justify-content: center;background-color: white;position: relative;}#sk-container-id-2 div.sk-item::before, #sk-container-id-2 div.sk-parallel-item::before {content: \"\";position: absolute;border-left: 1px solid gray;box-sizing: border-box;top: 0;bottom: 0;left: 50%;z-index: -1;}#sk-container-id-2 div.sk-parallel-item {display: flex;flex-direction: column;z-index: 1;position: relative;background-color: white;}#sk-container-id-2 div.sk-parallel-item:first-child::after {align-self: flex-end;width: 50%;}#sk-container-id-2 div.sk-parallel-item:last-child::after {align-self: flex-start;width: 50%;}#sk-container-id-2 div.sk-parallel-item:only-child::after {width: 0;}#sk-container-id-2 div.sk-dashed-wrapped {border: 1px dashed gray;margin: 0 0.4em 0.5em 0.4em;box-sizing: border-box;padding-bottom: 0.4em;background-color: white;}#sk-container-id-2 div.sk-label label {font-family: monospace;font-weight: bold;display: inline-block;line-height: 1.2em;}#sk-container-id-2 div.sk-label-container {text-align: center;}#sk-container-id-2 div.sk-container {/* jupyter's `normalize.less` sets `[hidden] { display: none; }` but bootstrap.min.css set `[hidden] { display: none !important; }` so we also need the `!important` here to be able to override the default hidden behavior on the sphinx rendered scikit-learn.org. See: https://github.com/scikit-learn/scikit-learn/issues/21755 */display: inline-block !important;position: relative;}#sk-container-id-2 div.sk-text-repr-fallback {display: none;}</style><div id=\"sk-container-id-2\" class=\"sk-top-container\"><div class=\"sk-text-repr-fallback\"><pre>XGBClassifier(base_score=0.5, booster=&#x27;gbtree&#x27;, callbacks=None,\n",
       "              colsample_bylevel=1, colsample_bynode=1, colsample_bytree=1,\n",
       "              early_stopping_rounds=None, enable_categorical=False,\n",
       "              eval_metric=None, feature_types=None, gamma=0, gpu_id=-1,\n",
       "              grow_policy=&#x27;depthwise&#x27;, importance_type=None,\n",
       "              interaction_constraints=&#x27;&#x27;, learning_rate=0.300000012,\n",
       "              max_bin=256, max_cat_threshold=64, max_cat_to_onehot=4,\n",
       "              max_delta_step=0, max_depth=6, max_leaves=0, min_child_weight=1,\n",
       "              missing=nan, monotone_constraints=&#x27;()&#x27;, n_estimators=100,\n",
       "              n_jobs=0, num_parallel_tree=1, predictor=&#x27;auto&#x27;, random_state=0, ...)</pre><b>In a Jupyter environment, please rerun this cell to show the HTML representation or trust the notebook. <br />On GitHub, the HTML representation is unable to render, please try loading this page with nbviewer.org.</b></div><div class=\"sk-container\" hidden><div class=\"sk-item\"><div class=\"sk-estimator sk-toggleable\"><input class=\"sk-toggleable__control sk-hidden--visually\" id=\"sk-estimator-id-2\" type=\"checkbox\" checked><label for=\"sk-estimator-id-2\" class=\"sk-toggleable__label sk-toggleable__label-arrow\">XGBClassifier</label><div class=\"sk-toggleable__content\"><pre>XGBClassifier(base_score=0.5, booster=&#x27;gbtree&#x27;, callbacks=None,\n",
       "              colsample_bylevel=1, colsample_bynode=1, colsample_bytree=1,\n",
       "              early_stopping_rounds=None, enable_categorical=False,\n",
       "              eval_metric=None, feature_types=None, gamma=0, gpu_id=-1,\n",
       "              grow_policy=&#x27;depthwise&#x27;, importance_type=None,\n",
       "              interaction_constraints=&#x27;&#x27;, learning_rate=0.300000012,\n",
       "              max_bin=256, max_cat_threshold=64, max_cat_to_onehot=4,\n",
       "              max_delta_step=0, max_depth=6, max_leaves=0, min_child_weight=1,\n",
       "              missing=nan, monotone_constraints=&#x27;()&#x27;, n_estimators=100,\n",
       "              n_jobs=0, num_parallel_tree=1, predictor=&#x27;auto&#x27;, random_state=0, ...)</pre></div></div></div></div></div>"
      ],
      "text/plain": [
       "XGBClassifier(base_score=0.5, booster='gbtree', callbacks=None,\n",
       "              colsample_bylevel=1, colsample_bynode=1, colsample_bytree=1,\n",
       "              early_stopping_rounds=None, enable_categorical=False,\n",
       "              eval_metric=None, feature_types=None, gamma=0, gpu_id=-1,\n",
       "              grow_policy='depthwise', importance_type=None,\n",
       "              interaction_constraints='', learning_rate=0.300000012,\n",
       "              max_bin=256, max_cat_threshold=64, max_cat_to_onehot=4,\n",
       "              max_delta_step=0, max_depth=6, max_leaves=0, min_child_weight=1,\n",
       "              missing=nan, monotone_constraints='()', n_estimators=100,\n",
       "              n_jobs=0, num_parallel_tree=1, predictor='auto', random_state=0, ...)"
      ]
     },
     "execution_count": 43,
     "metadata": {},
     "output_type": "execute_result"
    }
   ],
   "source": [
    "# Train an xgboost classifier\n",
    "from xgboost import XGBClassifier\n",
    "\n",
    "# Instantiate our model\n",
    "clf = XGBClassifier()\n",
    "\n",
    "# Fit the model to the training data\n",
    "clf.fit(msg_train, label_train)"
   ]
  },
  {
   "cell_type": "code",
   "execution_count": 74,
   "metadata": {},
   "outputs": [
    {
     "name": "stdout",
     "output_type": "stream",
     "text": [
      "Accuracy of Train dataset: 1.000\n"
     ]
    }
   ],
   "source": [
    "# Make predictions\n",
    "predict_train = clf.predict(msg_test)\n",
    "\n",
    "print(\n",
    "    f\"Accuracy of Train dataset: {metrics.accuracy_score(label_test, predict_train):0.3f}\"\n",
    ")"
   ]
  },
  {
   "cell_type": "code",
   "execution_count": null,
   "metadata": {},
   "outputs": [],
   "source": [
    "no_labels = np.arange(0, 78)\n",
    "df_noLabel = []\n",
    "\n",
    "for nl in no_labels : \n",
    "    df_unknown = pd.read_csv('BaiThi2/TestData_nolabel/{}_unknown.txt'.format(nl))\n",
    "    df_unknown.drop(df_unknown.columns[[0]], axis = 1, inplace = True)\n",
    "    f = open('BaiThi2/TestData_nolabel/{}_unknown.txt'.format(nl), \"r\")\n",
    "    df_unknown['message'] = f.read()\n",
    "    df_noLabel.append(df_unknown)\n",
    "    "
   ]
  },
  {
   "cell_type": "code",
   "execution_count": null,
   "metadata": {},
   "outputs": [
    {
     "data": {
      "text/html": [
       "<div>\n",
       "<style scoped>\n",
       "    .dataframe tbody tr th:only-of-type {\n",
       "        vertical-align: middle;\n",
       "    }\n",
       "\n",
       "    .dataframe tbody tr th {\n",
       "        vertical-align: top;\n",
       "    }\n",
       "\n",
       "    .dataframe thead th {\n",
       "        text-align: right;\n",
       "    }\n",
       "</style>\n",
       "<table border=\"1\" class=\"dataframe\">\n",
       "  <thead>\n",
       "    <tr style=\"text-align: right;\">\n",
       "      <th></th>\n",
       "      <th>message</th>\n",
       "    </tr>\n",
       "  </thead>\n",
       "  <tbody>\n",
       "    <tr>\n",
       "      <th>0</th>\n",
       "      <td>Subject: base generated adjuncts\\n\\ndoes anyon...</td>\n",
       "    </tr>\n",
       "    <tr>\n",
       "      <th>1</th>\n",
       "      <td>Subject: basic journals\\n\\nare facing major cu...</td>\n",
       "    </tr>\n",
       "    <tr>\n",
       "      <th>2</th>\n",
       "      <td>Subject: query : tagalog philippine informants...</td>\n",
       "    </tr>\n",
       "    <tr>\n",
       "      <th>3</th>\n",
       "      <td>Subject: ancient vocal tract simulation\\n\\nwor...</td>\n",
       "    </tr>\n",
       "    <tr>\n",
       "      <th>4</th>\n",
       "      <td>Subject: re : 3 . 386 chomsky , mac concordanc...</td>\n",
       "    </tr>\n",
       "    <tr>\n",
       "      <th>...</th>\n",
       "      <td>...</td>\n",
       "    </tr>\n",
       "    <tr>\n",
       "      <th>73</th>\n",
       "      <td>Subject: really cool hot videos !\\n\\nattention...</td>\n",
       "    </tr>\n",
       "    <tr>\n",
       "      <th>74</th>\n",
       "      <td>Subject: improvements wound care !\\n\\nhello , ...</td>\n",
       "    </tr>\n",
       "    <tr>\n",
       "      <th>75</th>\n",
       "      <td>Subject: \\n\\nb r g n r f r e s 1 - stop travel...</td>\n",
       "    </tr>\n",
       "    <tr>\n",
       "      <th>76</th>\n",
       "      <td>Subject: credit program \" guaranteed credit \"\\...</td>\n",
       "    </tr>\n",
       "    <tr>\n",
       "      <th>77</th>\n",
       "      <td>Subject: free promotional offer\\n\\n' ' own 100...</td>\n",
       "    </tr>\n",
       "  </tbody>\n",
       "</table>\n",
       "<p>78 rows × 1 columns</p>\n",
       "</div>"
      ],
      "text/plain": [
       "                                              message\n",
       "0   Subject: base generated adjuncts\\n\\ndoes anyon...\n",
       "1   Subject: basic journals\\n\\nare facing major cu...\n",
       "2   Subject: query : tagalog philippine informants...\n",
       "3   Subject: ancient vocal tract simulation\\n\\nwor...\n",
       "4   Subject: re : 3 . 386 chomsky , mac concordanc...\n",
       "..                                                ...\n",
       "73  Subject: really cool hot videos !\\n\\nattention...\n",
       "74  Subject: improvements wound care !\\n\\nhello , ...\n",
       "75  Subject: \\n\\nb r g n r f r e s 1 - stop travel...\n",
       "76  Subject: credit program \" guaranteed credit \"\\...\n",
       "77  Subject: free promotional offer\\n\\n' ' own 100...\n",
       "\n",
       "[78 rows x 1 columns]"
      ]
     },
     "execution_count": 46,
     "metadata": {},
     "output_type": "execute_result"
    }
   ],
   "source": [
    "df_noLabel1 = pd.concat(df_noLabel).reset_index(drop = True)\n",
    "df_noLabel1 = df_noLabel1.iloc[ : , 0 : 1]\n",
    "df_noLabel1"
   ]
  },
  {
   "cell_type": "code",
   "execution_count": null,
   "metadata": {},
   "outputs": [
    {
     "data": {
      "text/html": [
       "<div>\n",
       "<style scoped>\n",
       "    .dataframe tbody tr th:only-of-type {\n",
       "        vertical-align: middle;\n",
       "    }\n",
       "\n",
       "    .dataframe tbody tr th {\n",
       "        vertical-align: top;\n",
       "    }\n",
       "\n",
       "    .dataframe thead th {\n",
       "        text-align: right;\n",
       "    }\n",
       "</style>\n",
       "<table border=\"1\" class=\"dataframe\">\n",
       "  <thead>\n",
       "    <tr style=\"text-align: right;\">\n",
       "      <th></th>\n",
       "      <th>message</th>\n",
       "    </tr>\n",
       "  </thead>\n",
       "  <tbody>\n",
       "    <tr>\n",
       "      <th>0</th>\n",
       "      <td>[subject, base, generated, adjuncts, anyone, r...</td>\n",
       "    </tr>\n",
       "    <tr>\n",
       "      <th>1</th>\n",
       "      <td>[subject, basic, journals, facing, major, cuts...</td>\n",
       "    </tr>\n",
       "    <tr>\n",
       "      <th>2</th>\n",
       "      <td>[subject, query, tagalog, philippine, informan...</td>\n",
       "    </tr>\n",
       "    <tr>\n",
       "      <th>3</th>\n",
       "      <td>[subject, ancient, vocal, tract, simulation, w...</td>\n",
       "    </tr>\n",
       "    <tr>\n",
       "      <th>4</th>\n",
       "      <td>[subject, chomsky, mac, concordance, seems, wh...</td>\n",
       "    </tr>\n",
       "  </tbody>\n",
       "</table>\n",
       "</div>"
      ],
      "text/plain": [
       "                                             message\n",
       "0  [subject, base, generated, adjuncts, anyone, r...\n",
       "1  [subject, basic, journals, facing, major, cuts...\n",
       "2  [subject, query, tagalog, philippine, informan...\n",
       "3  [subject, ancient, vocal, tract, simulation, w...\n",
       "4  [subject, chomsky, mac, concordance, seems, wh..."
      ]
     },
     "execution_count": 47,
     "metadata": {},
     "output_type": "execute_result"
    }
   ],
   "source": [
    "df_noLabel1[\"message\"] = df_noLabel1[\"message\"].apply(text_preprocess)\n",
    "df_noLabel1.head()"
   ]
  },
  {
   "cell_type": "code",
   "execution_count": null,
   "metadata": {},
   "outputs": [
    {
     "data": {
      "text/html": [
       "<div>\n",
       "<style scoped>\n",
       "    .dataframe tbody tr th:only-of-type {\n",
       "        vertical-align: middle;\n",
       "    }\n",
       "\n",
       "    .dataframe tbody tr th {\n",
       "        vertical-align: top;\n",
       "    }\n",
       "\n",
       "    .dataframe thead th {\n",
       "        text-align: right;\n",
       "    }\n",
       "</style>\n",
       "<table border=\"1\" class=\"dataframe\">\n",
       "  <thead>\n",
       "    <tr style=\"text-align: right;\">\n",
       "      <th></th>\n",
       "      <th>message</th>\n",
       "    </tr>\n",
       "  </thead>\n",
       "  <tbody>\n",
       "    <tr>\n",
       "      <th>0</th>\n",
       "      <td>subject base generated adjuncts anyone referen...</td>\n",
       "    </tr>\n",
       "    <tr>\n",
       "      <th>1</th>\n",
       "      <td>subject basic journals facing major cuts libra...</td>\n",
       "    </tr>\n",
       "    <tr>\n",
       "      <th>2</th>\n",
       "      <td>subject query tagalog philippine informants na...</td>\n",
       "    </tr>\n",
       "    <tr>\n",
       "      <th>3</th>\n",
       "      <td>subject ancient vocal tract simulation work fo...</td>\n",
       "    </tr>\n",
       "    <tr>\n",
       "      <th>4</th>\n",
       "      <td>subject chomsky mac concordance seems whatever...</td>\n",
       "    </tr>\n",
       "    <tr>\n",
       "      <th>...</th>\n",
       "      <td>...</td>\n",
       "    </tr>\n",
       "    <tr>\n",
       "      <th>73</th>\n",
       "      <td>subject really cool hot videos attention warni...</td>\n",
       "    </tr>\n",
       "    <tr>\n",
       "      <th>74</th>\n",
       "      <td>subject improvements wound care hello name kev...</td>\n",
       "    </tr>\n",
       "    <tr>\n",
       "      <th>75</th>\n",
       "      <td>subject b r g n r f r e stop travel supplier a...</td>\n",
       "    </tr>\n",
       "    <tr>\n",
       "      <th>76</th>\n",
       "      <td>subject credit program guaranteed credit bad c...</td>\n",
       "    </tr>\n",
       "    <tr>\n",
       "      <th>77</th>\n",
       "      <td>subject free promotional offer free web site s...</td>\n",
       "    </tr>\n",
       "  </tbody>\n",
       "</table>\n",
       "<p>78 rows × 1 columns</p>\n",
       "</div>"
      ],
      "text/plain": [
       "                                              message\n",
       "0   subject base generated adjuncts anyone referen...\n",
       "1   subject basic journals facing major cuts libra...\n",
       "2   subject query tagalog philippine informants na...\n",
       "3   subject ancient vocal tract simulation work fo...\n",
       "4   subject chomsky mac concordance seems whatever...\n",
       "..                                                ...\n",
       "73  subject really cool hot videos attention warni...\n",
       "74  subject improvements wound care hello name kev...\n",
       "75  subject b r g n r f r e stop travel supplier a...\n",
       "76  subject credit program guaranteed credit bad c...\n",
       "77  subject free promotional offer free web site s...\n",
       "\n",
       "[78 rows x 1 columns]"
      ]
     },
     "execution_count": 48,
     "metadata": {},
     "output_type": "execute_result"
    }
   ],
   "source": [
    "# Convert messages (as lists of string tokens) to strings\n",
    "df_noLabel1[\"message\"] = df_noLabel1[\"message\"].agg(lambda x: \" \".join(map(str, x)))\n",
    "df_noLabel1.head()\n",
    "df_noLabel1\n",
    "# clf.predict(df_noLabel1)\n"
   ]
  },
  {
   "cell_type": "code",
   "execution_count": null,
   "metadata": {},
   "outputs": [],
   "source": [
    "# vectorizer1 = CountVectorizer()\n",
    "# # bow_transformer = vectorizer1.fit(df_noLabel1[\"message\"])\n",
    "\n",
    "# # Fetch the vocabulary set\n",
    "# print(f\"20 BOW Features: {vectorizer1.get_feature_names()[20:40]}\")\n",
    "# print(f\"Total number of vocab words: {len(vectorizer1.vocabulary_)}\")"
   ]
  },
  {
   "cell_type": "code",
   "execution_count": 75,
   "metadata": {},
   "outputs": [
    {
     "name": "stdout",
     "output_type": "stream",
     "text": [
      "Shape of sparse matrix: (78, 10343)\n",
      "Amount of non-zero occurrences: 7822\n"
     ]
    }
   ],
   "source": [
    "# Convert strings to vectors using BoW\n",
    "messages_bow_NL = bow_transformer.transform(df_noLabel1[\"message\"])\n",
    "\n",
    "# Print the shape of the sparse matrix and count the number of non-zero occurrences\n",
    "print(f\"Shape of sparse matrix: {messages_bow_NL.shape}\")\n",
    "print(f\"Amount of non-zero occurrences: {messages_bow_NL.nnz}\")"
   ]
  },
  {
   "cell_type": "code",
   "execution_count": 77,
   "metadata": {},
   "outputs": [
    {
     "name": "stdout",
     "output_type": "stream",
     "text": [
      "(78, 10343)\n"
     ]
    }
   ],
   "source": [
    "# TF-IDF\n",
    "from sklearn.feature_extraction.text import TfidfTransformer\n",
    "\n",
    "tfidf_transformer = TfidfTransformer().fit(messages_bow_NL)\n",
    "\n",
    "# Transform entire BoW into tf-idf corpus\n",
    "messages_tfidf_NL = tfidf_transformer.transform(messages_bow_NL)\n",
    "print(messages_tfidf_NL.shape)"
   ]
  },
  {
   "cell_type": "code",
   "execution_count": 80,
   "metadata": {},
   "outputs": [],
   "source": [
    "from sklearn.metrics import classification_report, f1_score, ConfusionMatrixDisplay, confusion_matrix"
   ]
  },
  {
   "cell_type": "code",
   "execution_count": 87,
   "metadata": {},
   "outputs": [
    {
     "name": "stdout",
     "output_type": "stream",
     "text": [
      "         0\n",
      "0   nospam\n",
      "1   nospam\n",
      "2   nospam\n",
      "3   nospam\n",
      "4   nospam\n",
      "..     ...\n",
      "73    spam\n",
      "74    spam\n",
      "75  nospam\n",
      "76  nospam\n",
      "77  nospam\n",
      "\n",
      "[78 rows x 1 columns]\n"
     ]
    }
   ],
   "source": [
    "model_pred = clf.predict(messages_tfidf_NL)\n",
    "model_pred = pd.DataFrame(model_pred)\n",
    "model_pred = model_pred.replace({0: 'nospam', 1: 'spam'})\n",
    "print(model_pred)\n",
    "model_pred = model_pred.to_csv('ANSWER.csv')\n"
   ]
  },
  {
   "cell_type": "code",
   "execution_count": null,
   "metadata": {},
   "outputs": [],
   "source": []
  }
 ],
 "metadata": {
  "kernelspec": {
   "display_name": "Python 3.11.0 64-bit",
   "language": "python",
   "name": "python3"
  },
  "language_info": {
   "codemirror_mode": {
    "name": "ipython",
    "version": 3
   },
   "file_extension": ".py",
   "mimetype": "text/x-python",
   "name": "python",
   "nbconvert_exporter": "python",
   "pygments_lexer": "ipython3",
   "version": "3.11.0"
  },
  "orig_nbformat": 4,
  "vscode": {
   "interpreter": {
    "hash": "5ffd7eb2cebf9ac436b5021ba01877e9cee6b03524e01bf8c8637d3e64111215"
   }
  }
 },
 "nbformat": 4,
 "nbformat_minor": 2
}
