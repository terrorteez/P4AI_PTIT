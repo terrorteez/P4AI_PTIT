{
 "cells": [
  {
   "cell_type": "code",
   "execution_count": 178,
   "metadata": {},
   "outputs": [],
   "source": [
    "import pandas as pd\n",
    "from typing import Tuple, List, Dict\n",
    "from tabulate import tabulate\n",
    "from sklearn.preprocessing import LabelEncoder\n",
    "import matplotlib.pyplot as plt\n",
    "import seaborn as sns\n",
    "import numpy as np\n",
    "import plotly.express as px"
   ]
  },
  {
   "cell_type": "code",
   "execution_count": 179,
   "metadata": {},
   "outputs": [],
   "source": [
    "def print_df(dataframe: pd.DataFrame):\n",
    "    print(tabulate(dataframe, headers='keys', tablefmt='psql'))"
   ]
  },
  {
   "cell_type": "code",
   "execution_count": 180,
   "metadata": {},
   "outputs": [
    {
     "name": "stdout",
     "output_type": "stream",
     "text": [
      "+-----+-----------+------------+-------------+----------------------------------------------+\n",
      "|     | country   |   latitude |   longitude | name                                         |\n",
      "|-----+-----------+------------+-------------+----------------------------------------------|\n",
      "|   0 | AD        |  42.5462   |    1.60155  | Andorra                                      |\n",
      "|   1 | AE        |  23.4241   |   53.8478   | United Arab Emirates                         |\n",
      "|   2 | AF        |  33.9391   |   67.71     | Afghanistan                                  |\n",
      "|   3 | AG        |  17.0608   |  -61.7964   | Antigua and Barbuda                          |\n",
      "|   4 | AI        |  18.2206   |  -63.0686   | Anguilla                                     |\n",
      "|   5 | AL        |  41.1533   |   20.1683   | Albania                                      |\n",
      "|   6 | AM        |  40.0691   |   45.0382   | Armenia                                      |\n",
      "|   7 | AN        |  12.2261   |  -69.0601   | Netherlands Antilles                         |\n",
      "|   8 | AO        | -11.2027   |   17.8739   | Angola                                       |\n",
      "|   9 | AQ        | -75.251    |   -0.071389 | Antarctica                                   |\n",
      "|  10 | AR        | -38.4161   |  -63.6167   | Argentina                                    |\n",
      "|  11 | AS        | -14.271    | -170.132    | American Samoa                               |\n",
      "|  12 | AT        |  47.5162   |   14.5501   | Austria                                      |\n",
      "|  13 | AU        | -25.2744   |  133.775    | Australia                                    |\n",
      "|  14 | AW        |  12.5211   |  -69.9683   | Aruba                                        |\n",
      "|  15 | AZ        |  40.1431   |   47.5769   | Azerbaijan                                   |\n",
      "|  16 | BA        |  43.9159   |   17.6791   | Bosnia and Herzegovina                       |\n",
      "|  17 | BB        |  13.1939   |  -59.5432   | Barbados                                     |\n",
      "|  18 | BD        |  23.685    |   90.3563   | Bangladesh                                   |\n",
      "|  19 | BE        |  50.5039   |    4.46994  | Belgium                                      |\n",
      "|  20 | BF        |  12.2383   |   -1.56159  | Burkina Faso                                 |\n",
      "|  21 | BG        |  42.7339   |   25.4858   | Bulgaria                                     |\n",
      "|  22 | BH        |  25.9304   |   50.6378   | Bahrain                                      |\n",
      "|  23 | BI        |  -3.37306  |   29.9189   | Burundi                                      |\n",
      "|  24 | BJ        |   9.30769  |    2.31583  | Benin                                        |\n",
      "|  25 | BM        |  32.3214   |  -64.7574   | Bermuda                                      |\n",
      "|  26 | BN        |   4.53528  |  114.728    | Brunei                                       |\n",
      "|  27 | BO        | -16.2902   |  -63.5887   | Bolivia                                      |\n",
      "|  28 | BR        | -14.235    |  -51.9253   | Brazil                                       |\n",
      "|  29 | BS        |  25.0343   |  -77.3963   | Bahamas                                      |\n",
      "|  30 | BT        |  27.5142   |   90.4336   | Bhutan                                       |\n",
      "|  31 | BV        | -54.4232   |    3.41319  | Bouvet Island                                |\n",
      "|  32 | BW        | -22.3285   |   24.6849   | Botswana                                     |\n",
      "|  33 | BY        |  53.7098   |   27.9534   | Belarus                                      |\n",
      "|  34 | BZ        |  17.1899   |  -88.4976   | Belize                                       |\n",
      "|  35 | CA        |  56.1304   | -106.347    | Canada                                       |\n",
      "|  36 | CC        | -12.1642   |   96.871    | Cocos [Keeling] Islands                      |\n",
      "|  37 | CD        |  -4.03833  |   21.7587   | Congo [DRC]                                  |\n",
      "|  38 | CF        |   6.61111  |   20.9394   | Central African Republic                     |\n",
      "|  39 | CG        |  -0.228021 |   15.8277   | Congo [Republic]                             |\n",
      "|  40 | CH        |  46.8182   |    8.22751  | Switzerland                                  |\n",
      "|  41 | CI        |   7.53999  |   -5.54708  | Côte d'Ivoire                                |\n",
      "|  42 | CK        | -21.2367   | -159.778    | Cook Islands                                 |\n",
      "|  43 | CL        | -35.6751   |  -71.543    | Chile                                        |\n",
      "|  44 | CM        |   7.36972  |   12.3547   | Cameroon                                     |\n",
      "|  45 | CN        |  35.8617   |  104.195    | China                                        |\n",
      "|  46 | CO        |   4.57087  |  -74.2973   | Colombia                                     |\n",
      "|  47 | CR        |   9.74892  |  -83.7534   | Costa Rica                                   |\n",
      "|  48 | CU        |  21.5218   |  -77.7812   | Cuba                                         |\n",
      "|  49 | CV        |  16.0021   |  -24.0132   | Cape Verde                                   |\n",
      "|  50 | CX        | -10.4475   |  105.69     | Christmas Island                             |\n",
      "|  51 | CY        |  35.1264   |   33.4299   | Cyprus                                       |\n",
      "|  52 | CZ        |  49.8175   |   15.473    | Czech Republic                               |\n",
      "|  53 | DE        |  51.1657   |   10.4515   | Germany                                      |\n",
      "|  54 | DJ        |  11.8251   |   42.5903   | Djibouti                                     |\n",
      "|  55 | DK        |  56.2639   |    9.50178  | Denmark                                      |\n",
      "|  56 | DM        |  15.415    |  -61.371    | Dominica                                     |\n",
      "|  57 | DO        |  18.7357   |  -70.1627   | Dominican Republic                           |\n",
      "|  58 | DZ        |  28.0339   |    1.65963  | Algeria                                      |\n",
      "|  59 | EC        |  -1.83124  |  -78.1834   | Ecuador                                      |\n",
      "|  60 | EE        |  58.5953   |   25.0136   | Estonia                                      |\n",
      "|  61 | EG        |  26.8206   |   30.8025   | Egypt                                        |\n",
      "|  62 | EH        |  24.2155   |  -12.8858   | Western Sahara                               |\n",
      "|  63 | ER        |  15.1794   |   39.7823   | Eritrea                                      |\n",
      "|  64 | ES        |  40.4637   |   -3.74922  | Spain                                        |\n",
      "|  65 | ET        |   9.145    |   40.4897   | Ethiopia                                     |\n",
      "|  66 | FI        |  61.9241   |   25.7482   | Finland                                      |\n",
      "|  67 | FJ        | -16.5782   |  179.414    | Fiji                                         |\n",
      "|  68 | FK        | -51.7963   |  -59.5236   | Falkland Islands [Islas Malvinas]            |\n",
      "|  69 | FM        |   7.42555  |  150.551    | Micronesia                                   |\n",
      "|  70 | FO        |  61.8926   |   -6.91181  | Faroe Islands                                |\n",
      "|  71 | FR        |  46.2276   |    2.21375  | France                                       |\n",
      "|  72 | GA        |  -0.803689 |   11.6094   | Gabon                                        |\n",
      "|  73 | GB        |  55.3781   |   -3.43597  | United Kingdom                               |\n",
      "|  74 | GD        |  12.2628   |  -61.6042   | Grenada                                      |\n",
      "|  75 | GE        |  42.3154   |   43.3569   | Georgia                                      |\n",
      "|  76 | GF        |   3.93389  |  -53.1258   | French Guiana                                |\n",
      "|  77 | GG        |  49.4657   |   -2.58528  | Guernsey                                     |\n",
      "|  78 | GH        |   7.94653  |   -1.02319  | Ghana                                        |\n",
      "|  79 | GI        |  36.1377   |   -5.34537  | Gibraltar                                    |\n",
      "|  80 | GL        |  71.7069   |  -42.6043   | Greenland                                    |\n",
      "|  81 | GM        |  13.4432   |  -15.3101   | Gambia                                       |\n",
      "|  82 | GN        |   9.94559  |   -9.69665  | Guinea                                       |\n",
      "|  83 | GP        |  16.996    |  -62.0676   | Guadeloupe                                   |\n",
      "|  84 | GQ        |   1.6508   |   10.2679   | Equatorial Guinea                            |\n",
      "|  85 | GR        |  39.0742   |   21.8243   | Greece                                       |\n",
      "|  86 | GS        | -54.4296   |  -36.5879   | South Georgia and the South Sandwich Islands |\n",
      "|  87 | GT        |  15.7835   |  -90.2308   | Guatemala                                    |\n",
      "|  88 | GU        |  13.4443   |  144.794    | Guam                                         |\n",
      "|  89 | GW        |  11.8037   |  -15.1804   | Guinea-Bissau                                |\n",
      "|  90 | GY        |   4.86042  |  -58.9302   | Guyana                                       |\n",
      "|  91 | GZ        |  31.3547   |   34.3088   | Gaza Strip                                   |\n",
      "|  92 | HK        |  22.3964   |  114.109    | Hong Kong                                    |\n",
      "|  93 | HM        | -53.0818   |   73.5042   | Heard Island and McDonald Islands            |\n",
      "|  94 | HN        |  15.2      |  -86.2419   | Honduras                                     |\n",
      "|  95 | HR        |  45.1      |   15.2      | Croatia                                      |\n",
      "|  96 | HT        |  18.9712   |  -72.2852   | Haiti                                        |\n",
      "|  97 | HU        |  47.1625   |   19.5033   | Hungary                                      |\n",
      "|  98 | ID        |  -0.789275 |  113.921    | Indonesia                                    |\n",
      "|  99 | IE        |  53.4129   |   -8.24389  | Ireland                                      |\n",
      "| 100 | IL        |  31.0461   |   34.8516   | Israel                                       |\n",
      "| 101 | IM        |  54.2361   |   -4.54806  | Isle of Man                                  |\n",
      "| 102 | IN        |  20.5937   |   78.9629   | India                                        |\n",
      "| 103 | IO        |  -6.34319  |   71.8765   | British Indian Ocean Territory               |\n",
      "| 104 | IQ        |  33.2232   |   43.6793   | Iraq                                         |\n",
      "| 105 | IR        |  32.4279   |   53.688    | Iran                                         |\n",
      "| 106 | IS        |  64.9631   |  -19.0208   | Iceland                                      |\n",
      "| 107 | IT        |  41.8719   |   12.5674   | Italy                                        |\n",
      "| 108 | JE        |  49.2144   |   -2.13125  | Jersey                                       |\n",
      "| 109 | JM        |  18.1096   |  -77.2975   | Jamaica                                      |\n",
      "| 110 | JO        |  30.5852   |   36.2384   | Jordan                                       |\n",
      "| 111 | JP        |  36.2048   |  138.253    | Japan                                        |\n",
      "| 112 | KE        |  -0.023559 |   37.9062   | Kenya                                        |\n",
      "| 113 | KG        |  41.2044   |   74.7661   | Kyrgyzstan                                   |\n",
      "| 114 | KH        |  12.5657   |  104.991    | Cambodia                                     |\n",
      "| 115 | KI        |  -3.37042  | -168.734    | Kiribati                                     |\n",
      "| 116 | KM        | -11.875    |   43.8722   | Comoros                                      |\n",
      "| 117 | KN        |  17.3578   |  -62.783    | Saint Kitts and Nevis                        |\n",
      "| 118 | KP        |  40.3399   |  127.51     | North Korea                                  |\n",
      "| 119 | KR        |  35.9078   |  127.767    | South Korea                                  |\n",
      "| 120 | KW        |  29.3117   |   47.4818   | Kuwait                                       |\n",
      "| 121 | KY        |  19.5135   |  -80.567    | Cayman Islands                               |\n",
      "| 122 | KZ        |  48.0196   |   66.9237   | Kazakhstan                                   |\n",
      "| 123 | LA        |  19.8563   |  102.495    | Laos                                         |\n",
      "| 124 | LB        |  33.8547   |   35.8623   | Lebanon                                      |\n",
      "| 125 | LC        |  13.9094   |  -60.9789   | Saint Lucia                                  |\n",
      "| 126 | LI        |  47.166    |    9.55537  | Liechtenstein                                |\n",
      "| 127 | LK        |   7.87305  |   80.7718   | Sri Lanka                                    |\n",
      "| 128 | LR        |   6.42805  |   -9.4295   | Liberia                                      |\n",
      "| 129 | LS        | -29.61     |   28.2336   | Lesotho                                      |\n",
      "| 130 | LT        |  55.1694   |   23.8813   | Lithuania                                    |\n",
      "| 131 | LU        |  49.8153   |    6.12958  | Luxembourg                                   |\n",
      "| 132 | LV        |  56.8796   |   24.6032   | Latvia                                       |\n",
      "| 133 | LY        |  26.3351   |   17.2283   | Libya                                        |\n",
      "| 134 | MA        |  31.7917   |   -7.09262  | Morocco                                      |\n",
      "| 135 | MC        |  43.7503   |    7.41284  | Monaco                                       |\n",
      "| 136 | MD        |  47.4116   |   28.3699   | Moldova                                      |\n",
      "| 137 | ME        |  42.7087   |   19.3744   | Montenegro                                   |\n",
      "| 138 | MG        | -18.7669   |   46.8691   | Madagascar                                   |\n",
      "| 139 | MH        |   7.13147  |  171.184    | Marshall Islands                             |\n",
      "| 140 | MK        |  41.6086   |   21.7453   | Macedonia [FYROM]                            |\n",
      "| 141 | ML        |  17.5707   |   -3.99617  | Mali                                         |\n",
      "| 142 | MM        |  21.914    |   95.9562   | Myanmar [Burma]                              |\n",
      "| 143 | MN        |  46.8625   |  103.847    | Mongolia                                     |\n",
      "| 144 | MO        |  22.1987   |  113.544    | Macau                                        |\n",
      "| 145 | MP        |  17.3308   |  145.385    | Northern Mariana Islands                     |\n",
      "| 146 | MQ        |  14.6415   |  -61.0242   | Martinique                                   |\n",
      "| 147 | MR        |  21.0079   |  -10.9408   | Mauritania                                   |\n",
      "| 148 | MS        |  16.7425   |  -62.1874   | Montserrat                                   |\n",
      "| 149 | MT        |  35.9375   |   14.3754   | Malta                                        |\n",
      "| 150 | MU        | -20.3484   |   57.5522   | Mauritius                                    |\n",
      "| 151 | MV        |   3.20278  |   73.2207   | Maldives                                     |\n",
      "| 152 | MW        | -13.2543   |   34.3015   | Malawi                                       |\n",
      "| 153 | MX        |  23.6345   | -102.553    | Mexico                                       |\n",
      "| 154 | MY        |   4.21048  |  101.976    | Malaysia                                     |\n",
      "| 155 | MZ        | -18.6657   |   35.5296   | Mozambique                                   |\n",
      "| 156 | nan       | -22.9576   |   18.4904   | Namibia                                      |\n",
      "| 157 | NC        | -20.9043   |  165.618    | New Caledonia                                |\n",
      "| 158 | NE        |  17.6078   |    8.08167  | Niger                                        |\n",
      "| 159 | NF        | -29.0408   |  167.955    | Norfolk Island                               |\n",
      "| 160 | NG        |   9.082    |    8.67528  | Nigeria                                      |\n",
      "| 161 | NI        |  12.8654   |  -85.2072   | Nicaragua                                    |\n",
      "| 162 | NL        |  52.1326   |    5.29127  | Netherlands                                  |\n",
      "| 163 | NO        |  60.472    |    8.46895  | Norway                                       |\n",
      "| 164 | NP        |  28.3949   |   84.124    | Nepal                                        |\n",
      "| 165 | NR        |  -0.522778 |  166.932    | Nauru                                        |\n",
      "| 166 | NU        | -19.0544   | -169.867    | Niue                                         |\n",
      "| 167 | NZ        | -40.9006   |  174.886    | New Zealand                                  |\n",
      "| 168 | OM        |  21.5126   |   55.9233   | Oman                                         |\n",
      "| 169 | PA        |   8.53798  |  -80.7821   | Panama                                       |\n",
      "| 170 | PE        |  -9.18997  |  -75.0152   | Peru                                         |\n",
      "| 171 | PF        | -17.6797   | -149.407    | French Polynesia                             |\n",
      "| 172 | PG        |  -6.31499  |  143.956    | Papua New Guinea                             |\n",
      "| 173 | PH        |  12.8797   |  121.774    | Philippines                                  |\n",
      "| 174 | PK        |  30.3753   |   69.3451   | Pakistan                                     |\n",
      "| 175 | PL        |  51.9194   |   19.1451   | Poland                                       |\n",
      "| 176 | PM        |  46.9419   |  -56.2711   | Saint Pierre and Miquelon                    |\n",
      "| 177 | PN        | -24.7036   | -127.439    | Pitcairn Islands                             |\n",
      "| 178 | PR        |  18.2208   |  -66.5901   | Puerto Rico                                  |\n",
      "| 179 | PS        |  31.9522   |   35.2332   | Palestinian Territories                      |\n",
      "| 180 | PT        |  39.3999   |   -8.22445  | Portugal                                     |\n",
      "| 181 | PW        |   7.51498  |  134.583    | Palau                                        |\n",
      "| 182 | PY        | -23.4425   |  -58.4438   | Paraguay                                     |\n",
      "| 183 | QA        |  25.3548   |   51.1839   | Qatar                                        |\n",
      "| 184 | RE        | -21.1151   |   55.5364   | Réunion                                      |\n",
      "| 185 | RO        |  45.9432   |   24.9668   | Romania                                      |\n",
      "| 186 | RS        |  44.0165   |   21.0059   | Serbia                                       |\n",
      "| 187 | RU        |  61.524    |  105.319    | Russia                                       |\n",
      "| 188 | RW        |  -1.94028  |   29.8739   | Rwanda                                       |\n",
      "| 189 | SA        |  23.8859   |   45.0792   | Saudi Arabia                                 |\n",
      "| 190 | SB        |  -9.64571  |  160.156    | Solomon Islands                              |\n",
      "| 191 | SC        |  -4.67957  |   55.492    | Seychelles                                   |\n",
      "| 192 | SD        |  12.8628   |   30.2176   | Sudan                                        |\n",
      "| 193 | SE        |  60.1282   |   18.6435   | Sweden                                       |\n",
      "| 194 | SG        |   1.35208  |  103.82     | Singapore                                    |\n",
      "| 195 | SH        | -24.1435   |  -10.0307   | Saint Helena                                 |\n",
      "| 196 | SI        |  46.1512   |   14.9955   | Slovenia                                     |\n",
      "| 197 | SJ        |  77.5536   |   23.6703   | Svalbard and Jan Mayen                       |\n",
      "| 198 | SK        |  48.669    |   19.699    | Slovakia                                     |\n",
      "| 199 | SL        |   8.46055  |  -11.7799   | Sierra Leone                                 |\n",
      "| 200 | SM        |  43.9424   |   12.4578   | San Marino                                   |\n",
      "| 201 | SN        |  14.4974   |  -14.4524   | Senegal                                      |\n",
      "| 202 | SO        |   5.15215  |   46.1996   | Somalia                                      |\n",
      "| 203 | SR        |   3.91931  |  -56.0278   | Suriname                                     |\n",
      "| 204 | ST        |   0.18636  |    6.61308  | São Tomé and Príncipe                        |\n",
      "| 205 | SV        |  13.7942   |  -88.8965   | El Salvador                                  |\n",
      "| 206 | SY        |  34.8021   |   38.9968   | Syria                                        |\n",
      "| 207 | SZ        | -26.5225   |   31.4659   | Swaziland                                    |\n",
      "| 208 | TC        |  21.694    |  -71.7979   | Turks and Caicos Islands                     |\n",
      "| 209 | TD        |  15.4542   |   18.7322   | Chad                                         |\n",
      "| 210 | TF        | -49.2804   |   69.3486   | French Southern Territories                  |\n",
      "| 211 | TG        |   8.61954  |    0.824782 | Togo                                         |\n",
      "| 212 | TH        |  15.87     |  100.993    | Thailand                                     |\n",
      "| 213 | TJ        |  38.861    |   71.2761   | Tajikistan                                   |\n",
      "| 214 | TK        |  -8.96736  | -171.856    | Tokelau                                      |\n",
      "| 215 | TL        |  -8.87422  |  125.728    | Timor-Leste                                  |\n",
      "| 216 | TM        |  38.9697   |   59.5563   | Turkmenistan                                 |\n",
      "| 217 | TN        |  33.8869   |    9.5375   | Tunisia                                      |\n",
      "| 218 | TO        | -21.179    | -175.198    | Tonga                                        |\n",
      "| 219 | TR        |  38.9637   |   35.2433   | Turkey                                       |\n",
      "| 220 | TT        |  10.6918   |  -61.2225   | Trinidad and Tobago                          |\n",
      "| 221 | TV        |  -7.10954  |  177.649    | Tuvalu                                       |\n",
      "| 222 | TW        |  23.6978   |  120.961    | Taiwan                                       |\n",
      "| 223 | TZ        |  -6.36903  |   34.8888   | Tanzania                                     |\n",
      "| 224 | UA        |  48.3794   |   31.1656   | Ukraine                                      |\n",
      "| 225 | UG        |   1.37333  |   32.2903   | Uganda                                       |\n",
      "| 226 | UM        | nan        |  nan        | U.S. Minor Outlying Islands                  |\n",
      "| 227 | US        |  37.0902   |  -95.7129   | United States                                |\n",
      "| 228 | UY        | -32.5228   |  -55.7658   | Uruguay                                      |\n",
      "| 229 | UZ        |  41.3775   |   64.5853   | Uzbekistan                                   |\n",
      "| 230 | VA        |  41.9029   |   12.4534   | Vatican City                                 |\n",
      "| 231 | VC        |  12.9843   |  -61.2872   | Saint Vincent and the Grenadines             |\n",
      "| 232 | VE        |   6.42375  |  -66.5897   | Venezuela                                    |\n",
      "| 233 | VG        |  18.4207   |  -64.64     | British Virgin Islands                       |\n",
      "| 234 | VI        |  18.3358   |  -64.8963   | U.S. Virgin Islands                          |\n",
      "| 235 | VN        |  14.0583   |  108.277    | Vietnam                                      |\n",
      "| 236 | VU        | -15.3767   |  166.959    | Vanuatu                                      |\n",
      "| 237 | WF        | -13.7688   | -177.156    | Wallis and Futuna                            |\n",
      "| 238 | WS        | -13.759    | -172.105    | Samoa                                        |\n",
      "| 239 | XK        |  42.6026   |   20.903    | Kosovo                                       |\n",
      "| 240 | YE        |  15.5527   |   48.5164   | Yemen                                        |\n",
      "| 241 | YT        | -12.8275   |   45.1662   | Mayotte                                      |\n",
      "| 242 | ZA        | -30.5595   |   22.9375   | South Africa                                 |\n",
      "| 243 | ZM        | -13.1339   |   27.8493   | Zambia                                       |\n",
      "| 244 | ZW        | -19.0154   |   29.1549   | Zimbabwe                                     |\n",
      "+-----+-----------+------------+-------------+----------------------------------------------+\n"
     ]
    },
    {
     "data": {
      "text/html": [
       "<div>\n",
       "<style scoped>\n",
       "    .dataframe tbody tr th:only-of-type {\n",
       "        vertical-align: middle;\n",
       "    }\n",
       "\n",
       "    .dataframe tbody tr th {\n",
       "        vertical-align: top;\n",
       "    }\n",
       "\n",
       "    .dataframe thead th {\n",
       "        text-align: right;\n",
       "    }\n",
       "</style>\n",
       "<table border=\"1\" class=\"dataframe\">\n",
       "  <thead>\n",
       "    <tr style=\"text-align: right;\">\n",
       "      <th></th>\n",
       "      <th>country</th>\n",
       "      <th>latitude</th>\n",
       "      <th>longitude</th>\n",
       "      <th>name</th>\n",
       "    </tr>\n",
       "  </thead>\n",
       "  <tbody>\n",
       "    <tr>\n",
       "      <th>0</th>\n",
       "      <td>AD</td>\n",
       "      <td>42.546245</td>\n",
       "      <td>1.601554</td>\n",
       "      <td>Andorra</td>\n",
       "    </tr>\n",
       "    <tr>\n",
       "      <th>1</th>\n",
       "      <td>AE</td>\n",
       "      <td>23.424076</td>\n",
       "      <td>53.847818</td>\n",
       "      <td>United Arab Emirates</td>\n",
       "    </tr>\n",
       "    <tr>\n",
       "      <th>2</th>\n",
       "      <td>AF</td>\n",
       "      <td>33.939110</td>\n",
       "      <td>67.709953</td>\n",
       "      <td>Afghanistan</td>\n",
       "    </tr>\n",
       "    <tr>\n",
       "      <th>3</th>\n",
       "      <td>AG</td>\n",
       "      <td>17.060816</td>\n",
       "      <td>-61.796428</td>\n",
       "      <td>Antigua and Barbuda</td>\n",
       "    </tr>\n",
       "    <tr>\n",
       "      <th>4</th>\n",
       "      <td>AI</td>\n",
       "      <td>18.220554</td>\n",
       "      <td>-63.068615</td>\n",
       "      <td>Anguilla</td>\n",
       "    </tr>\n",
       "    <tr>\n",
       "      <th>...</th>\n",
       "      <td>...</td>\n",
       "      <td>...</td>\n",
       "      <td>...</td>\n",
       "      <td>...</td>\n",
       "    </tr>\n",
       "    <tr>\n",
       "      <th>240</th>\n",
       "      <td>YE</td>\n",
       "      <td>15.552727</td>\n",
       "      <td>48.516388</td>\n",
       "      <td>Yemen</td>\n",
       "    </tr>\n",
       "    <tr>\n",
       "      <th>241</th>\n",
       "      <td>YT</td>\n",
       "      <td>-12.827500</td>\n",
       "      <td>45.166244</td>\n",
       "      <td>Mayotte</td>\n",
       "    </tr>\n",
       "    <tr>\n",
       "      <th>242</th>\n",
       "      <td>ZA</td>\n",
       "      <td>-30.559482</td>\n",
       "      <td>22.937506</td>\n",
       "      <td>South Africa</td>\n",
       "    </tr>\n",
       "    <tr>\n",
       "      <th>243</th>\n",
       "      <td>ZM</td>\n",
       "      <td>-13.133897</td>\n",
       "      <td>27.849332</td>\n",
       "      <td>Zambia</td>\n",
       "    </tr>\n",
       "    <tr>\n",
       "      <th>244</th>\n",
       "      <td>ZW</td>\n",
       "      <td>-19.015438</td>\n",
       "      <td>29.154857</td>\n",
       "      <td>Zimbabwe</td>\n",
       "    </tr>\n",
       "  </tbody>\n",
       "</table>\n",
       "<p>245 rows × 4 columns</p>\n",
       "</div>"
      ],
      "text/plain": [
       "    country   latitude  longitude                  name\n",
       "0        AD  42.546245   1.601554               Andorra\n",
       "1        AE  23.424076  53.847818  United Arab Emirates\n",
       "2        AF  33.939110  67.709953           Afghanistan\n",
       "3        AG  17.060816 -61.796428   Antigua and Barbuda\n",
       "4        AI  18.220554 -63.068615              Anguilla\n",
       "..      ...        ...        ...                   ...\n",
       "240      YE  15.552727  48.516388                 Yemen\n",
       "241      YT -12.827500  45.166244               Mayotte\n",
       "242      ZA -30.559482  22.937506          South Africa\n",
       "243      ZM -13.133897  27.849332                Zambia\n",
       "244      ZW -19.015438  29.154857              Zimbabwe\n",
       "\n",
       "[245 rows x 4 columns]"
      ]
     },
     "execution_count": 180,
     "metadata": {},
     "output_type": "execute_result"
    }
   ],
   "source": [
    "df = pd.read_csv('countries.csv')\n",
    "print_df(dataframe = df)\n",
    "df"
   ]
  },
  {
   "cell_type": "markdown",
   "metadata": {},
   "source": [
    "## Preprocessing data"
   ]
  },
  {
   "cell_type": "markdown",
   "metadata": {},
   "source": [
    "### Check missing values"
   ]
  },
  {
   "cell_type": "code",
   "execution_count": 181,
   "metadata": {},
   "outputs": [
    {
     "data": {
      "text/plain": [
       "country      1\n",
       "latitude     1\n",
       "longitude    1\n",
       "name         0\n",
       "dtype: int64"
      ]
     },
     "execution_count": 181,
     "metadata": {},
     "output_type": "execute_result"
    }
   ],
   "source": [
    "df.isna().sum()"
   ]
  },
  {
   "cell_type": "markdown",
   "metadata": {},
   "source": [
    "### Continous object data"
   ]
  },
  {
   "cell_type": "code",
   "execution_count": 182,
   "metadata": {},
   "outputs": [],
   "source": [
    "def numberic(dataframe: pd.DataFrame):\n",
    "    df = dataframe.copy()\n",
    "    for key in df.keys():\n",
    "        if df[key].dtype == object:\n",
    "            df[key] = LabelEncoder().fit_transform(df[key])\n",
    "\n",
    "    return df"
   ]
  },
  {
   "cell_type": "markdown",
   "metadata": {},
   "source": [
    "### Normalize data"
   ]
  },
  {
   "cell_type": "code",
   "execution_count": 183,
   "metadata": {},
   "outputs": [],
   "source": [
    "def normalize(dataframe: pd.DataFrame):\n",
    "    df = dataframe.copy()\n",
    "    for key in df.keys():\n",
    "        if df[key].dtype != object:\n",
    "            min = df[key].min()\n",
    "            max = df[key].max()\n",
    "            df[key] = (df[key] - min)/(max-min)\n",
    "            df[key] = df[key].round(decimals=4)\n",
    "    return df"
   ]
  },
  {
   "cell_type": "markdown",
   "metadata": {},
   "source": [
    "### Call continous data function"
   ]
  },
  {
   "cell_type": "code",
   "execution_count": 184,
   "metadata": {},
   "outputs": [],
   "source": [
    "df = numberic(dataframe = df)"
   ]
  },
  {
   "cell_type": "markdown",
   "metadata": {},
   "source": [
    "### Call normalize data function"
   ]
  },
  {
   "cell_type": "code",
   "execution_count": 185,
   "metadata": {},
   "outputs": [],
   "source": [
    "# df = normalize(dataframe = df)"
   ]
  },
  {
   "cell_type": "markdown",
   "metadata": {},
   "source": [
    "### Handle non-object missing data"
   ]
  },
  {
   "cell_type": "code",
   "execution_count": 186,
   "metadata": {},
   "outputs": [],
   "source": [
    "def replace_Nan_data(dataframe: pd.DataFrame) :\n",
    "    df = dataframe.copy()\n",
    "    for key in df.keys():\n",
    "        if df[key].isnull().sum() > 0:\n",
    "            df[key].fillna(round(df[key].median()), inplace=True)\n",
    "    return df"
   ]
  },
  {
   "cell_type": "markdown",
   "metadata": {},
   "source": [
    "### Call handle non-object missing values"
   ]
  },
  {
   "cell_type": "code",
   "execution_count": 187,
   "metadata": {},
   "outputs": [],
   "source": [
    "df = replace_Nan_data(dataframe = df)"
   ]
  },
  {
   "cell_type": "markdown",
   "metadata": {},
   "source": [
    "### Heat map"
   ]
  },
  {
   "cell_type": "code",
   "execution_count": 188,
   "metadata": {},
   "outputs": [
    {
     "data": {
      "image/png": "[encoded data removed]",
      "text/plain": [
       "<Figure size 1200x800 with 2 Axes>"
      ]
     },
     "metadata": {},
     "output_type": "display_data"
    }
   ],
   "source": [
    "sns.heatmap(df.corr(), annot = True, cmap = 'YlGnBu', linewidths = 0.5)\n",
    "fig = plt.gcf()\n",
    "fig.set_size_inches(12, 8)\n",
    "plt.show()\n"
   ]
  },
  {
   "cell_type": "markdown",
   "metadata": {},
   "source": [
    "### 1. Dựa vào dữ liệu sau, hiển thị tọa độ của theo lat và lon của các nước lên một bản đồ"
   ]
  },
  {
   "cell_type": "code",
   "execution_count": 189,
   "metadata": {},
   "outputs": [
    {
     "data": {
      "application/vnd.plotly.v1+json": {
       "config": {
        "plotlyServerURL": "https://plot.ly"
       },
       "data": [
        {
         "hovertemplate": "<b>%{hovertext}</b><br><br>longitude=%{x}<br>latitude=%{y}<br>country=%{marker.color}<extra></extra>",
         "hovertext": [
          0,
          1,
          2,
          3,
          4,
          5,
          6,
          7,
          8,
          9,
          10,
          11,
          12,
          13,
          14,
          15,
          16,
          17,
          18,
          19,
          20,
          21,
          22,
          23,
          24,
          25,
          26,
          27,
          28,
          29,
          30,
          31,
          32,
          33,
          34,
          35,
          36,
          37,
          38,
          39,
          40,
          41,
          42,
          43,
          44,
          45,
          46,
          47,
          48,
          49,
          50,
          51,
          52,
          53,
          54,
          55,
          56,
          57,
          58,
          59,
          60,
          61,
          62,
          63,
          64,
          65,
          66,
          67,
          68,
          69,
          70,
          71,
          72,
          73,
          74,
          75,
          76,
          77,
          78,
          79,
          80,
          81,
          82,
          83,
          84,
          85,
          86,
          87,
          88,
          89,
          90,
          91,
          92,
          93,
          94,
          95,
          96,
          97,
          98,
          99,
          100,
          101,
          102,
          103,
          104,
          105,
          106,
          107,
          108,
          109,
          110,
          111,
          112,
          113,
          114,
          115,
          116,
          117,
          118,
          119,
          120,
          121,
          122,
          123,
          124,
          125,
          126,
          127,
          128,
          129,
          130,
          131,
          132,
          133,
          134,
          135,
          136,
          137,
          138,
          139,
          140,
          141,
          142,
          143,
          144,
          145,
          146,
          147,
          148,
          149,
          150,
          151,
          152,
          153,
          154,
          155,
          244,
          156,
          157,
          158,
          159,
          160,
          161,
          162,
          163,
          164,
          165,
          166,
          167,
          168,
          169,
          170,
          171,
          172,
          173,
          174,
          175,
          176,
          177,
          178,
          179,
          180,
          181,
          182,
          183,
          184,
          185,
          186,
          187,
          188,
          189,
          190,
          191,
          192,
          193,
          194,
          195,
          196,
          197,
          198,
          199,
          200,
          201,
          202,
          203,
          204,
          205,
          206,
          207,
          208,
          209,
          210,
          211,
          212,
          213,
          214,
          215,
          216,
          217,
          218,
          219,
          220,
          221,
          222,
          223,
          224,
          225,
          226,
          227,
          228,
          229,
          230,
          231,
          232,
          233,
          234,
          235,
          236,
          237,
          238,
          239,
          240,
          241,
          242,
          243
         ],
         "legendgroup": "",
         "marker": {
          "color": [
           0,
           1,
           2,
           3,
           4,
           5,
           6,
           7,
           8,
           9,
           10,
           11,
           12,
           13,
           14,
           15,
           16,
           17,
           18,
           19,
           20,
           21,
           22,
           23,
           24,
           25,
           26,
           27,
           28,
           29,
           30,
           31,
           32,
           33,
           34,
           35,
           36,
           37,
           38,
           39,
           40,
           41,
           42,
           43,
           44,
           45,
           46,
           47,
           48,
           49,
           50,
           51,
           52,
           53,
           54,
           55,
           56,
           57,
           58,
           59,
           60,
           61,
           62,
           63,
           64,
           65,
           66,
           67,
           68,
           69,
           70,
           71,
           72,
           73,
           74,
           75,
           76,
           77,
           78,
           79,
           80,
           81,
           82,
           83,
           84,
           85,
           86,
           87,
           88,
           89,
           90,
           91,
           92,
           93,
           94,
           95,
           96,
           97,
           98,
           99,
           100,
           101,
           102,
           103,
           104,
           105,
           106,
           107,
           108,
           109,
           110,
           111,
           112,
           113,
           114,
           115,
           116,
           117,
           118,
           119,
           120,
           121,
           122,
           123,
           124,
           125,
           126,
           127,
           128,
           129,
           130,
           131,
           132,
           133,
           134,
           135,
           136,
           137,
           138,
           139,
           140,
           141,
           142,
           143,
           144,
           145,
           146,
           147,
           148,
           149,
           150,
           151,
           152,
           153,
           154,
           155,
           244,
           156,
           157,
           158,
           159,
           160,
           161,
           162,
           163,
           164,
           165,
           166,
           167,
           168,
           169,
           170,
           171,
           172,
           173,
           174,
           175,
           176,
           177,
           178,
           179,
           180,
           181,
           182,
           183,
           184,
           185,
           186,
           187,
           188,
           189,
           190,
           191,
           192,
           193,
           194,
           195,
           196,
           197,
           198,
           199,
           200,
           201,
           202,
           203,
           204,
           205,
           206,
           207,
           208,
           209,
           210,
           211,
           212,
           213,
           214,
           215,
           216,
           217,
           218,
           219,
           220,
           221,
           222,
           223,
           224,
           225,
           226,
           227,
           228,
           229,
           230,
           231,
           232,
           233,
           234,
           235,
           236,
           237,
           238,
           239,
           240,
           241,
           242,
           243
          ],
          "coloraxis": "coloraxis",
          "symbol": "circle"
         },
         "mode": "markers",
         "name": "",
         "orientation": "v",
         "showlegend": false,
         "type": "scatter",
         "x": [
          1.601554,
          53.847818,
          67.709953,
          -61.796428,
          -63.068615,
          20.168331,
          45.038189,
          -69.060087,
          17.873887,
          -0.071389,
          -63.616672,
          -170.132217,
          14.550072,
          133.775136,
          -69.968338,
          47.576927,
          17.679076,
          -59.543198,
          90.356331,
          4.469936,
          -1.561593,
          25.48583,
          50.637772,
          29.918886,
          2.315834,
          -64.75737,
          114.727669,
          -63.588653,
          -51.92528,
          -77.39628,
          90.433601,
          3.413194,
          24.684866,
          27.953389,
          -88.49765,
          -106.346771,
          96.870956,
          21.758664,
          20.939444,
          15.827659,
          8.227512,
          -5.54708,
          -159.777671,
          -71.542969,
          12.354722,
          104.195397,
          -74.297333,
          -83.753428,
          -77.781167,
          -24.013197,
          105.690449,
          33.429859,
          15.472962,
          10.451526,
          42.590275,
          9.501785,
          -61.370976,
          -70.162651,
          1.659626,
          -78.183406,
          25.013607,
          30.802498,
          -12.885834,
          39.782334,
          -3.74922,
          40.489673,
          25.748151,
          179.414413,
          -59.523613,
          150.550812,
          -6.911806,
          2.213749,
          11.609444,
          -3.435973,
          -61.604171,
          43.356892,
          -53.125782,
          -2.585278,
          -1.023194,
          -5.345374,
          -42.604303,
          -15.310139,
          -9.696645,
          -62.067641,
          10.267895,
          21.824312,
          -36.587909,
          -90.230759,
          144.793731,
          -15.180413,
          -58.93018,
          34.308825,
          114.109497,
          73.504158,
          -86.241905,
          15.2,
          -72.285215,
          19.503304,
          113.921327,
          -8.24389,
          34.851612,
          -4.548056,
          78.96288,
          71.876519,
          43.679291,
          53.688046,
          -19.020835,
          12.56738,
          -2.13125,
          -77.297508,
          36.238414,
          138.252924,
          37.906193,
          74.766098,
          104.990963,
          -168.734039,
          43.872219,
          -62.782998,
          127.510093,
          127.766922,
          47.481766,
          -80.566956,
          66.923684,
          102.495496,
          35.862285,
          -60.978893,
          9.555373,
          80.771797,
          -9.429499,
          28.233608,
          23.881275,
          6.129583,
          24.603189,
          17.228331,
          -7.09262,
          7.412841,
          28.369885,
          19.37439,
          46.869107,
          171.184478,
          21.745275,
          -3.996166,
          95.956223,
          103.846656,
          113.543873,
          145.38469,
          -61.024174,
          -10.940835,
          -62.187366,
          14.375416,
          57.552152,
          73.22068,
          34.301525,
          -102.552784,
          101.975766,
          35.529562,
          18.49041,
          165.618042,
          8.081666,
          167.954712,
          8.675277,
          -85.207229,
          5.291266,
          8.468946,
          84.124008,
          166.931503,
          -169.867233,
          174.885971,
          55.923255,
          -80.782127,
          -75.015152,
          -149.406843,
          143.95555,
          121.774017,
          69.345116,
          19.145136,
          -56.27111,
          -127.439308,
          -66.590149,
          35.233154,
          -8.224454,
          134.58252,
          -58.443832,
          51.183884,
          55.536384,
          24.96676,
          21.005859,
          105.318756,
          29.873888,
          45.079162,
          160.156194,
          55.491977,
          30.217636,
          18.643501,
          103.819836,
          -10.030696,
          14.995463,
          23.670272,
          19.699024,
          -11.779889,
          12.457777,
          -14.452362,
          46.199616,
          -56.027783,
          6.613081,
          -88.89653,
          38.996815,
          31.465866,
          -71.797928,
          18.732207,
          69.348557,
          0.824782,
          100.992541,
          71.276093,
          -171.855881,
          125.727539,
          59.556278,
          9.537499,
          -175.198242,
          35.243322,
          -61.222503,
          177.64933,
          120.960515,
          34.888822,
          31.16558,
          32.290275,
          18,
          -95.712891,
          -55.765835,
          64.585262,
          12.453389,
          -61.287228,
          -66.58973,
          -64.639968,
          -64.896335,
          108.277199,
          166.959158,
          -177.156097,
          -172.104629,
          20.902977,
          48.516388,
          45.166244,
          22.937506,
          27.849332,
          29.154857
         ],
         "xaxis": "x",
         "y": [
          42.546245,
          23.424076,
          33.93911,
          17.060816,
          18.220554,
          41.153332,
          40.069099,
          12.226079,
          -11.202692,
          -75.250973,
          -38.416097,
          -14.270972,
          47.516231,
          -25.274398,
          12.52111,
          40.143105,
          43.915886,
          13.193887,
          23.684994,
          50.503887,
          12.238333,
          42.733883,
          25.930414,
          -3.373056,
          9.30769,
          32.321384,
          4.535277,
          -16.290154,
          -14.235004,
          25.03428,
          27.514162,
          -54.423199,
          -22.328474,
          53.709807,
          17.189877,
          56.130366,
          -12.164165,
          -4.038333,
          6.611111,
          -0.228021,
          46.818188,
          7.539989,
          -21.236736,
          -35.675147,
          7.369722,
          35.86166,
          4.570868,
          9.748917,
          21.521757,
          16.002082,
          -10.447525,
          35.126413,
          49.817492,
          51.165691,
          11.825138,
          56.26392,
          15.414999,
          18.735693,
          28.033886,
          -1.831239,
          58.595272,
          26.820553,
          24.215527,
          15.179384,
          40.463667,
          9.145,
          61.92411,
          -16.578193,
          -51.796253,
          7.425554,
          61.892635,
          46.227638,
          -0.803689,
          55.378051,
          12.262776,
          42.315407,
          3.933889,
          49.465691,
          7.946527,
          36.137741,
          71.706936,
          13.443182,
          9.945587,
          16.995971,
          1.650801,
          39.074208,
          -54.429579,
          15.783471,
          13.444304,
          11.803749,
          4.860416,
          31.354676,
          22.396428,
          -53.08181,
          15.199999,
          45.1,
          18.971187,
          47.162494,
          -0.789275,
          53.41291,
          31.046051,
          54.236107,
          20.593684,
          -6.343194,
          33.223191,
          32.427908,
          64.963051,
          41.87194,
          49.214439,
          18.109581,
          30.585164,
          36.204824,
          -0.023559,
          41.20438,
          12.565679,
          -3.370417,
          -11.875001,
          17.357822,
          40.339852,
          35.907757,
          29.31166,
          19.513469,
          48.019573,
          19.85627,
          33.854721,
          13.909444,
          47.166,
          7.873054,
          6.428055,
          -29.609988,
          55.169438,
          49.815273,
          56.879635,
          26.3351,
          31.791702,
          43.750298,
          47.411631,
          42.708678,
          -18.766947,
          7.131474,
          41.608635,
          17.570692,
          21.913965,
          46.862496,
          22.198745,
          17.33083,
          14.641528,
          21.00789,
          16.742498,
          35.937496,
          -20.348404,
          3.202778,
          -13.254308,
          23.634501,
          4.210484,
          -18.665695,
          -22.95764,
          -20.904305,
          17.607789,
          -29.040835,
          9.081999,
          12.865416,
          52.132633,
          60.472024,
          28.394857,
          -0.522778,
          -19.054445,
          -40.900557,
          21.512583,
          8.537981,
          -9.189967,
          -17.679742,
          -6.314993,
          12.879721,
          30.375321,
          51.919438,
          46.941936,
          -24.703615,
          18.220833,
          31.952162,
          39.399872,
          7.51498,
          -23.442503,
          25.354826,
          -21.115141,
          45.943161,
          44.016521,
          61.52401,
          -1.940278,
          23.885942,
          -9.64571,
          -4.679574,
          12.862807,
          60.128161,
          1.352083,
          -24.143474,
          46.151241,
          77.553604,
          48.669026,
          8.460555,
          43.94236,
          14.497401,
          5.152149,
          3.919305,
          0.18636,
          13.794185,
          34.802075,
          -26.522503,
          21.694025,
          15.454166,
          -49.280366,
          8.619543,
          15.870032,
          38.861034,
          -8.967363,
          -8.874217,
          38.969719,
          33.886917,
          -21.178986,
          38.963745,
          10.691803,
          -7.109535,
          23.69781,
          -6.369028,
          48.379433,
          1.373333,
          17,
          37.09024,
          -32.522779,
          41.377491,
          41.902916,
          12.984305,
          6.42375,
          18.420695,
          18.335765,
          14.058324,
          -15.376706,
          -13.768752,
          -13.759029,
          42.602636,
          15.552727,
          -12.8275,
          -30.559482,
          -13.133897,
          -19.015438
         ],
         "yaxis": "y"
        }
       ],
       "layout": {
        "coloraxis": {
         "colorbar": {
          "title": {
           "text": "country"
          }
         },
         "colorscale": [
          [
           0,
           "#0d0887"
          ],
          [
           0.1111111111111111,
           "#46039f"
          ],
          [
           0.2222222222222222,
           "#7201a8"
          ],
          [
           0.3333333333333333,
           "#9c179e"
          ],
          [
           0.4444444444444444,
           "#bd3786"
          ],
          [
           0.5555555555555556,
           "#d8576b"
          ],
          [
           0.6666666666666666,
           "#ed7953"
          ],
          [
           0.7777777777777778,
           "#fb9f3a"
          ],
          [
           0.8888888888888888,
           "#fdca26"
          ],
          [
           1,
           "#f0f921"
          ]
         ]
        },
        "legend": {
         "tracegroupgap": 0
        },
        "margin": {
         "t": 60
        },
        "template": {
         "data": {
          "bar": [
           {
            "error_x": {
             "color": "#2a3f5f"
            },
            "error_y": {
             "color": "#2a3f5f"
            },
            "marker": {
             "line": {
              "color": "#E5ECF6",
              "width": 0.5
             },
             "pattern": {
              "fillmode": "overlay",
              "size": 10,
              "solidity": 0.2
             }
            },
            "type": "bar"
           }
          ],
          "barpolar": [
           {
            "marker": {
             "line": {
              "color": "#E5ECF6",
              "width": 0.5
             },
             "pattern": {
              "fillmode": "overlay",
              "size": 10,
              "solidity": 0.2
             }
            },
            "type": "barpolar"
           }
          ],
          "carpet": [
           {
            "aaxis": {
             "endlinecolor": "#2a3f5f",
             "gridcolor": "white",
             "linecolor": "white",
             "minorgridcolor": "white",
             "startlinecolor": "#2a3f5f"
            },
            "baxis": {
             "endlinecolor": "#2a3f5f",
             "gridcolor": "white",
             "linecolor": "white",
             "minorgridcolor": "white",
             "startlinecolor": "#2a3f5f"
            },
            "type": "carpet"
           }
          ],
          "choropleth": [
           {
            "colorbar": {
             "outlinewidth": 0,
             "ticks": ""
            },
            "type": "choropleth"
           }
          ],
          "contour": [
           {
            "colorbar": {
             "outlinewidth": 0,
             "ticks": ""
            },
            "colorscale": [
             [
              0,
              "#0d0887"
             ],
             [
              0.1111111111111111,
              "#46039f"
             ],
             [
              0.2222222222222222,
              "#7201a8"
             ],
             [
              0.3333333333333333,
              "#9c179e"
             ],
             [
              0.4444444444444444,
              "#bd3786"
             ],
             [
              0.5555555555555556,
              "#d8576b"
             ],
             [
              0.6666666666666666,
              "#ed7953"
             ],
             [
              0.7777777777777778,
              "#fb9f3a"
             ],
             [
              0.8888888888888888,
              "#fdca26"
             ],
             [
              1,
              "#f0f921"
             ]
            ],
            "type": "contour"
           }
          ],
          "contourcarpet": [
           {
            "colorbar": {
             "outlinewidth": 0,
             "ticks": ""
            },
            "type": "contourcarpet"
           }
          ],
          "heatmap": [
           {
            "colorbar": {
             "outlinewidth": 0,
             "ticks": ""
            },
            "colorscale": [
             [
              0,
              "#0d0887"
             ],
             [
              0.1111111111111111,
              "#46039f"
             ],
             [
              0.2222222222222222,
              "#7201a8"
             ],
             [
              0.3333333333333333,
              "#9c179e"
             ],
             [
              0.4444444444444444,
              "#bd3786"
             ],
             [
              0.5555555555555556,
              "#d8576b"
             ],
             [
              0.6666666666666666,
              "#ed7953"
             ],
             [
              0.7777777777777778,
              "#fb9f3a"
             ],
             [
              0.8888888888888888,
              "#fdca26"
             ],
             [
              1,
              "#f0f921"
             ]
            ],
            "type": "heatmap"
           }
          ],
          "heatmapgl": [
           {
            "colorbar": {
             "outlinewidth": 0,
             "ticks": ""
            },
            "colorscale": [
             [
              0,
              "#0d0887"
             ],
             [
              0.1111111111111111,
              "#46039f"
             ],
             [
              0.2222222222222222,
              "#7201a8"
             ],
             [
              0.3333333333333333,
              "#9c179e"
             ],
             [
              0.4444444444444444,
              "#bd3786"
             ],
             [
              0.5555555555555556,
              "#d8576b"
             ],
             [
              0.6666666666666666,
              "#ed7953"
             ],
             [
              0.7777777777777778,
              "#fb9f3a"
             ],
             [
              0.8888888888888888,
              "#fdca26"
             ],
             [
              1,
              "#f0f921"
             ]
            ],
            "type": "heatmapgl"
           }
          ],
          "histogram": [
           {
            "marker": {
             "pattern": {
              "fillmode": "overlay",
              "size": 10,
              "solidity": 0.2
             }
            },
            "type": "histogram"
           }
          ],
          "histogram2d": [
           {
            "colorbar": {
             "outlinewidth": 0,
             "ticks": ""
            },
            "colorscale": [
             [
              0,
              "#0d0887"
             ],
             [
              0.1111111111111111,
              "#46039f"
             ],
             [
              0.2222222222222222,
              "#7201a8"
             ],
             [
              0.3333333333333333,
              "#9c179e"
             ],
             [
              0.4444444444444444,
              "#bd3786"
             ],
             [
              0.5555555555555556,
              "#d8576b"
             ],
             [
              0.6666666666666666,
              "#ed7953"
             ],
             [
              0.7777777777777778,
              "#fb9f3a"
             ],
             [
              0.8888888888888888,
              "#fdca26"
             ],
             [
              1,
              "#f0f921"
             ]
            ],
            "type": "histogram2d"
           }
          ],
          "histogram2dcontour": [
           {
            "colorbar": {
             "outlinewidth": 0,
             "ticks": ""
            },
            "colorscale": [
             [
              0,
              "#0d0887"
             ],
             [
              0.1111111111111111,
              "#46039f"
             ],
             [
              0.2222222222222222,
              "#7201a8"
             ],
             [
              0.3333333333333333,
              "#9c179e"
             ],
             [
              0.4444444444444444,
              "#bd3786"
             ],
             [
              0.5555555555555556,
              "#d8576b"
             ],
             [
              0.6666666666666666,
              "#ed7953"
             ],
             [
              0.7777777777777778,
              "#fb9f3a"
             ],
             [
              0.8888888888888888,
              "#fdca26"
             ],
             [
              1,
              "#f0f921"
             ]
            ],
            "type": "histogram2dcontour"
           }
          ],
          "mesh3d": [
           {
            "colorbar": {
             "outlinewidth": 0,
             "ticks": ""
            },
            "type": "mesh3d"
           }
          ],
          "parcoords": [
           {
            "line": {
             "colorbar": {
              "outlinewidth": 0,
              "ticks": ""
             }
            },
            "type": "parcoords"
           }
          ],
          "pie": [
           {
            "automargin": true,
            "type": "pie"
           }
          ],
          "scatter": [
           {
            "fillpattern": {
             "fillmode": "overlay",
             "size": 10,
             "solidity": 0.2
            },
            "type": "scatter"
           }
          ],
          "scatter3d": [
           {
            "line": {
             "colorbar": {
              "outlinewidth": 0,
              "ticks": ""
             }
            },
            "marker": {
             "colorbar": {
              "outlinewidth": 0,
              "ticks": ""
             }
            },
            "type": "scatter3d"
           }
          ],
          "scattercarpet": [
           {
            "marker": {
             "colorbar": {
              "outlinewidth": 0,
              "ticks": ""
             }
            },
            "type": "scattercarpet"
           }
          ],
          "scattergeo": [
           {
            "marker": {
             "colorbar": {
              "outlinewidth": 0,
              "ticks": ""
             }
            },
            "type": "scattergeo"
           }
          ],
          "scattergl": [
           {
            "marker": {
             "colorbar": {
              "outlinewidth": 0,
              "ticks": ""
             }
            },
            "type": "scattergl"
           }
          ],
          "scattermapbox": [
           {
            "marker": {
             "colorbar": {
              "outlinewidth": 0,
              "ticks": ""
             }
            },
            "type": "scattermapbox"
           }
          ],
          "scatterpolar": [
           {
            "marker": {
             "colorbar": {
              "outlinewidth": 0,
              "ticks": ""
             }
            },
            "type": "scatterpolar"
           }
          ],
          "scatterpolargl": [
           {
            "marker": {
             "colorbar": {
              "outlinewidth": 0,
              "ticks": ""
             }
            },
            "type": "scatterpolargl"
           }
          ],
          "scatterternary": [
           {
            "marker": {
             "colorbar": {
              "outlinewidth": 0,
              "ticks": ""
             }
            },
            "type": "scatterternary"
           }
          ],
          "surface": [
           {
            "colorbar": {
             "outlinewidth": 0,
             "ticks": ""
            },
            "colorscale": [
             [
              0,
              "#0d0887"
             ],
             [
              0.1111111111111111,
              "#46039f"
             ],
             [
              0.2222222222222222,
              "#7201a8"
             ],
             [
              0.3333333333333333,
              "#9c179e"
             ],
             [
              0.4444444444444444,
              "#bd3786"
             ],
             [
              0.5555555555555556,
              "#d8576b"
             ],
             [
              0.6666666666666666,
              "#ed7953"
             ],
             [
              0.7777777777777778,
              "#fb9f3a"
             ],
             [
              0.8888888888888888,
              "#fdca26"
             ],
             [
              1,
              "#f0f921"
             ]
            ],
            "type": "surface"
           }
          ],
          "table": [
           {
            "cells": {
             "fill": {
              "color": "#EBF0F8"
             },
             "line": {
              "color": "white"
             }
            },
            "header": {
             "fill": {
              "color": "#C8D4E3"
             },
             "line": {
              "color": "white"
             }
            },
            "type": "table"
           }
          ]
         },
         "layout": {
          "annotationdefaults": {
           "arrowcolor": "#2a3f5f",
           "arrowhead": 0,
           "arrowwidth": 1
          },
          "autotypenumbers": "strict",
          "coloraxis": {
           "colorbar": {
            "outlinewidth": 0,
            "ticks": ""
           }
          },
          "colorscale": {
           "diverging": [
            [
             0,
             "#8e0152"
            ],
            [
             0.1,
             "#c51b7d"
            ],
            [
             0.2,
             "#de77ae"
            ],
            [
             0.3,
             "#f1b6da"
            ],
            [
             0.4,
             "#fde0ef"
            ],
            [
             0.5,
             "#f7f7f7"
            ],
            [
             0.6,
             "#e6f5d0"
            ],
            [
             0.7,
             "#b8e186"
            ],
            [
             0.8,
             "#7fbc41"
            ],
            [
             0.9,
             "#4d9221"
            ],
            [
             1,
             "#276419"
            ]
           ],
           "sequential": [
            [
             0,
             "#0d0887"
            ],
            [
             0.1111111111111111,
             "#46039f"
            ],
            [
             0.2222222222222222,
             "#7201a8"
            ],
            [
             0.3333333333333333,
             "#9c179e"
            ],
            [
             0.4444444444444444,
             "#bd3786"
            ],
            [
             0.5555555555555556,
             "#d8576b"
            ],
            [
             0.6666666666666666,
             "#ed7953"
            ],
            [
             0.7777777777777778,
             "#fb9f3a"
            ],
            [
             0.8888888888888888,
             "#fdca26"
            ],
            [
             1,
             "#f0f921"
            ]
           ],
           "sequentialminus": [
            [
             0,
             "#0d0887"
            ],
            [
             0.1111111111111111,
             "#46039f"
            ],
            [
             0.2222222222222222,
             "#7201a8"
            ],
            [
             0.3333333333333333,
             "#9c179e"
            ],
            [
             0.4444444444444444,
             "#bd3786"
            ],
            [
             0.5555555555555556,
             "#d8576b"
            ],
            [
             0.6666666666666666,
             "#ed7953"
            ],
            [
             0.7777777777777778,
             "#fb9f3a"
            ],
            [
             0.8888888888888888,
             "#fdca26"
            ],
            [
             1,
             "#f0f921"
            ]
           ]
          },
          "colorway": [
           "#636efa",
           "#EF553B",
           "#00cc96",
           "#ab63fa",
           "#FFA15A",
           "#19d3f3",
           "#FF6692",
           "#B6E880",
           "#FF97FF",
           "#FECB52"
          ],
          "font": {
           "color": "#2a3f5f"
          },
          "geo": {
           "bgcolor": "white",
           "lakecolor": "white",
           "landcolor": "#E5ECF6",
           "showlakes": true,
           "showland": true,
           "subunitcolor": "white"
          },
          "hoverlabel": {
           "align": "left"
          },
          "hovermode": "closest",
          "mapbox": {
           "style": "light"
          },
          "paper_bgcolor": "white",
          "plot_bgcolor": "#E5ECF6",
          "polar": {
           "angularaxis": {
            "gridcolor": "white",
            "linecolor": "white",
            "ticks": ""
           },
           "bgcolor": "#E5ECF6",
           "radialaxis": {
            "gridcolor": "white",
            "linecolor": "white",
            "ticks": ""
           }
          },
          "scene": {
           "xaxis": {
            "backgroundcolor": "#E5ECF6",
            "gridcolor": "white",
            "gridwidth": 2,
            "linecolor": "white",
            "showbackground": true,
            "ticks": "",
            "zerolinecolor": "white"
           },
           "yaxis": {
            "backgroundcolor": "#E5ECF6",
            "gridcolor": "white",
            "gridwidth": 2,
            "linecolor": "white",
            "showbackground": true,
            "ticks": "",
            "zerolinecolor": "white"
           },
           "zaxis": {
            "backgroundcolor": "#E5ECF6",
            "gridcolor": "white",
            "gridwidth": 2,
            "linecolor": "white",
            "showbackground": true,
            "ticks": "",
            "zerolinecolor": "white"
           }
          },
          "shapedefaults": {
           "line": {
            "color": "#2a3f5f"
           }
          },
          "ternary": {
           "aaxis": {
            "gridcolor": "white",
            "linecolor": "white",
            "ticks": ""
           },
           "baxis": {
            "gridcolor": "white",
            "linecolor": "white",
            "ticks": ""
           },
           "bgcolor": "#E5ECF6",
           "caxis": {
            "gridcolor": "white",
            "linecolor": "white",
            "ticks": ""
           }
          },
          "title": {
           "x": 0.05
          },
          "xaxis": {
           "automargin": true,
           "gridcolor": "white",
           "linecolor": "white",
           "ticks": "",
           "title": {
            "standoff": 15
           },
           "zerolinecolor": "white",
           "zerolinewidth": 2
          },
          "yaxis": {
           "automargin": true,
           "gridcolor": "white",
           "linecolor": "white",
           "ticks": "",
           "title": {
            "standoff": 15
           },
           "zerolinecolor": "white",
           "zerolinewidth": 2
          }
         }
        },
        "xaxis": {
         "anchor": "y",
         "domain": [
          0,
          1
         ],
         "title": {
          "text": "longitude"
         }
        },
        "yaxis": {
         "anchor": "x",
         "domain": [
          0,
          1
         ],
         "title": {
          "text": "latitude"
         }
        }
       }
      }
     },
     "metadata": {},
     "output_type": "display_data"
    }
   ],
   "source": [
    "px.scatter(df, x = 'longitude', y = 'latitude', hover_name = 'country', color = 'country')"
   ]
  },
  {
   "cell_type": "markdown",
   "metadata": {},
   "source": [
    "### 2. Phân cụm theo 3 thuật toán K-Means, DBSCAN, và DPC"
   ]
  },
  {
   "cell_type": "code",
   "execution_count": 190,
   "metadata": {},
   "outputs": [],
   "source": [
    "df1 = df.copy()"
   ]
  },
  {
   "cell_type": "code",
   "execution_count": 191,
   "metadata": {},
   "outputs": [],
   "source": [
    "def kmeans_display(X, label):\n",
    "    K = np.amax(label) + 1\n",
    "    X0 = X[label == 0, :]\n",
    "    X1 = X[label == 1, :]\n",
    "    X2 = X[label == 2, :]\n",
    "    X3 = X[label == 3, :]\n",
    "    X4 = X[label == 4, :]\n",
    "    \n",
    "    plt.plot(X0[:, 0], X0[:, 1], 'b^', markersize = 4, alpha = 0.8)\n",
    "    plt.plot(X1[:, 0], X1[:, 1], 'go', markersize = 4, alpha = 0.8)\n",
    "    plt.plot(X2[:, 0], X2[:, 1], 'rs', markersize = 4, alpha = 0.8)\n",
    "    plt.plot(X3[:, 0], X3[:, 1], 'bx', markersize = 4, alpha = 0.8, c = 'orange')\n",
    "    plt.plot(X4[:, 0], X4[:, 1], 'rs', markersize = 4, alpha = 0.8, c = 'violet')\n",
    "\n",
    "    plt.axis('equal')\n",
    "    plt.plot()\n",
    "    plt.show()"
   ]
  },
  {
   "cell_type": "code",
   "execution_count": 192,
   "metadata": {},
   "outputs": [],
   "source": [
    "X1 = df1.values\n",
    "X1_cluster = X1[ : , 1 : 3]"
   ]
  },
  {
   "cell_type": "markdown",
   "metadata": {},
   "source": [
    "### K-Means"
   ]
  },
  {
   "cell_type": "code",
   "execution_count": 193,
   "metadata": {},
   "outputs": [
    {
     "name": "stderr",
     "output_type": "stream",
     "text": [
      "C:\\Users\\PC\\AppData\\Local\\Temp\\ipykernel_22508\\874191743.py:12: UserWarning:\n",
      "\n",
      "color is redundantly defined by the 'color' keyword argument and the fmt string \"bx\" (-> color='b'). The keyword argument will take precedence.\n",
      "\n",
      "C:\\Users\\PC\\AppData\\Local\\Temp\\ipykernel_22508\\874191743.py:13: UserWarning:\n",
      "\n",
      "color is redundantly defined by the 'color' keyword argument and the fmt string \"rs\" (-> color='r'). The keyword argument will take precedence.\n",
      "\n"
     ]
    },
    {
     "data": {
      "image/png": "[encoded data removed]",
      "text/plain": [
       "<Figure size 640x480 with 1 Axes>"
      ]
     },
     "metadata": {},
     "output_type": "display_data"
    }
   ],
   "source": [
    "from sklearn.cluster import KMeans\n",
    "kmeans = KMeans(n_clusters = 5, random_state = 0).fit(X1_cluster)\n",
    "pred_label = kmeans.predict(X1_cluster)\n",
    "pred_label\n",
    "kmeans_display(X1_cluster, pred_label)"
   ]
  },
  {
   "cell_type": "code",
   "execution_count": 194,
   "metadata": {},
   "outputs": [
    {
     "data": {
      "text/html": [
       "<div>\n",
       "<style scoped>\n",
       "    .dataframe tbody tr th:only-of-type {\n",
       "        vertical-align: middle;\n",
       "    }\n",
       "\n",
       "    .dataframe tbody tr th {\n",
       "        vertical-align: top;\n",
       "    }\n",
       "\n",
       "    .dataframe thead th {\n",
       "        text-align: right;\n",
       "    }\n",
       "</style>\n",
       "<table border=\"1\" class=\"dataframe\">\n",
       "  <thead>\n",
       "    <tr style=\"text-align: right;\">\n",
       "      <th></th>\n",
       "      <th>country</th>\n",
       "      <th>latitude</th>\n",
       "      <th>longitude</th>\n",
       "      <th>name</th>\n",
       "    </tr>\n",
       "  </thead>\n",
       "  <tbody>\n",
       "    <tr>\n",
       "      <th>0</th>\n",
       "      <td>0</td>\n",
       "      <td>42.546245</td>\n",
       "      <td>1.601554</td>\n",
       "      <td>4</td>\n",
       "    </tr>\n",
       "    <tr>\n",
       "      <th>1</th>\n",
       "      <td>1</td>\n",
       "      <td>23.424076</td>\n",
       "      <td>53.847818</td>\n",
       "      <td>231</td>\n",
       "    </tr>\n",
       "    <tr>\n",
       "      <th>2</th>\n",
       "      <td>2</td>\n",
       "      <td>33.939110</td>\n",
       "      <td>67.709953</td>\n",
       "      <td>0</td>\n",
       "    </tr>\n",
       "    <tr>\n",
       "      <th>3</th>\n",
       "      <td>3</td>\n",
       "      <td>17.060816</td>\n",
       "      <td>-61.796428</td>\n",
       "      <td>8</td>\n",
       "    </tr>\n",
       "    <tr>\n",
       "      <th>4</th>\n",
       "      <td>4</td>\n",
       "      <td>18.220554</td>\n",
       "      <td>-63.068615</td>\n",
       "      <td>6</td>\n",
       "    </tr>\n",
       "    <tr>\n",
       "      <th>...</th>\n",
       "      <td>...</td>\n",
       "      <td>...</td>\n",
       "      <td>...</td>\n",
       "      <td>...</td>\n",
       "    </tr>\n",
       "    <tr>\n",
       "      <th>240</th>\n",
       "      <td>239</td>\n",
       "      <td>15.552727</td>\n",
       "      <td>48.516388</td>\n",
       "      <td>242</td>\n",
       "    </tr>\n",
       "    <tr>\n",
       "      <th>241</th>\n",
       "      <td>240</td>\n",
       "      <td>-12.827500</td>\n",
       "      <td>45.166244</td>\n",
       "      <td>139</td>\n",
       "    </tr>\n",
       "    <tr>\n",
       "      <th>242</th>\n",
       "      <td>241</td>\n",
       "      <td>-30.559482</td>\n",
       "      <td>22.937506</td>\n",
       "      <td>200</td>\n",
       "    </tr>\n",
       "    <tr>\n",
       "      <th>243</th>\n",
       "      <td>242</td>\n",
       "      <td>-13.133897</td>\n",
       "      <td>27.849332</td>\n",
       "      <td>243</td>\n",
       "    </tr>\n",
       "    <tr>\n",
       "      <th>244</th>\n",
       "      <td>243</td>\n",
       "      <td>-19.015438</td>\n",
       "      <td>29.154857</td>\n",
       "      <td>244</td>\n",
       "    </tr>\n",
       "  </tbody>\n",
       "</table>\n",
       "<p>245 rows × 4 columns</p>\n",
       "</div>"
      ],
      "text/plain": [
       "     country   latitude  longitude  name\n",
       "0          0  42.546245   1.601554     4\n",
       "1          1  23.424076  53.847818   231\n",
       "2          2  33.939110  67.709953     0\n",
       "3          3  17.060816 -61.796428     8\n",
       "4          4  18.220554 -63.068615     6\n",
       "..       ...        ...        ...   ...\n",
       "240      239  15.552727  48.516388   242\n",
       "241      240 -12.827500  45.166244   139\n",
       "242      241 -30.559482  22.937506   200\n",
       "243      242 -13.133897  27.849332   243\n",
       "244      243 -19.015438  29.154857   244\n",
       "\n",
       "[245 rows x 4 columns]"
      ]
     },
     "execution_count": 194,
     "metadata": {},
     "output_type": "execute_result"
    }
   ],
   "source": [
    "df"
   ]
  },
  {
   "cell_type": "markdown",
   "metadata": {},
   "source": [
    "### DBSCAN"
   ]
  },
  {
   "cell_type": "code",
   "execution_count": 195,
   "metadata": {},
   "outputs": [
    {
     "data": {
      "text/plain": [
       "array([ 0,  0,  0,  1,  1,  0,  0,  1,  0, -1,  1,  2,  0,  0,  1,  0,  0,\n",
       "        1,  0,  0,  0,  0,  0,  0,  0,  1,  0,  1,  1,  1,  0, -1,  0,  0,\n",
       "        1, -1,  0,  0,  0,  0,  0,  0,  2,  1,  0,  0,  1,  1,  1,  0,  0,\n",
       "        0,  0,  0,  0,  0,  1,  1,  0,  1,  0,  0,  0,  0,  0,  0,  0,  0,\n",
       "        1,  0,  0,  0,  0,  0,  1,  0,  1,  0,  0,  0, -1,  0,  0,  1,  0,\n",
       "        0, -1,  1,  0,  0,  1,  0,  0, -1,  1,  0,  1,  0,  0,  0,  0,  0,\n",
       "        0,  0,  0,  0,  0,  0,  0,  1,  0,  0,  0,  0,  0,  2,  0,  1,  0,\n",
       "        0,  0,  1,  0,  0,  0,  1,  0,  0,  0,  0,  0,  0,  0,  0,  0,  0,\n",
       "        0,  0,  0,  0,  0,  0,  0,  0,  0,  0,  1,  0,  1,  0,  0,  0,  0,\n",
       "        1,  0,  0,  0,  0,  0,  0,  0,  1,  0,  0,  0,  0,  2,  0,  0,  1,\n",
       "        1,  2,  0,  0,  0,  0,  1, -1,  1,  0,  0,  0,  1,  0,  0,  0,  0,\n",
       "       -1,  0,  0,  0,  0,  0,  0,  0, -1,  0,  0,  0,  0,  0,  0,  0,  1,\n",
       "        0,  1,  0,  0,  1,  0, -1,  0,  0,  0,  2,  0,  0,  0,  2,  0,  1,\n",
       "        0,  0,  0,  0,  0,  0,  1,  1,  0,  0,  1,  1,  1,  1,  0,  0,  2,\n",
       "        2,  0,  0,  0,  0,  0,  0], dtype=int64)"
      ]
     },
     "execution_count": 195,
     "metadata": {},
     "output_type": "execute_result"
    }
   ],
   "source": [
    "from sklearn.cluster import DBSCAN\n",
    "df3 = df.copy()\n",
    "df3 = numberic(df3)\n",
    "df3 = replace_Nan_data(df3)\n",
    "df3 = df3.values\n",
    "a = df3[:,1:3]\n",
    "db = DBSCAN(eps = 20, min_samples = 5)\n",
    "db.fit(a)\n",
    "y_pred = db.fit_predict(a)\n",
    "y_pred"
   ]
  },
  {
   "cell_type": "code",
   "execution_count": 196,
   "metadata": {},
   "outputs": [
    {
     "data": {
      "text/plain": [
       "<matplotlib.collections.PathCollection at 0x2b437914350>"
      ]
     },
     "execution_count": 196,
     "metadata": {},
     "output_type": "execute_result"
    },
    {
     "data": {
      "image/png": "[encoded data removed]",
      "text/plain": [
       "<Figure size 1000x600 with 1 Axes>"
      ]
     },
     "metadata": {},
     "output_type": "display_data"
    }
   ],
   "source": [
    "plt.figure(figsize=(10,6))\n",
    "plt.scatter(a[:,0], a[:,1], c = y_pred, cmap = 'plasma')\n"
   ]
  },
  {
   "cell_type": "markdown",
   "metadata": {},
   "source": [
    "### DPC\n"
   ]
  },
  {
   "cell_type": "code",
   "execution_count": 197,
   "metadata": {},
   "outputs": [],
   "source": [
    "import numpy as np\n",
    "import pandas as pd\n",
    "import matplotlib.pyplot as plt\n",
    "import csv\n",
    "from scipy.spatial.distance import pdist,squareform\n",
    "from collections import OrderedDict\n",
    "from itertools import combinations,product\n",
    "from sklearn.cluster import SpectralClustering\n",
    "from sklearn.cluster import KMeans\n",
    "from sklearn.decomposition import PCA\n",
    "from sklearn.preprocessing import StandardScaler\n",
    "from sklearn.semi_supervised import LabelPropagation\n",
    "from sklearn import metrics\n",
    "from sklearn import datasets\n",
    "from sklearn.metrics import mean_squared_error,accuracy_score,mean_absolute_error,f1_score"
   ]
  },
  {
   "cell_type": "code",
   "execution_count": 198,
   "metadata": {},
   "outputs": [],
   "source": [
    "def getDistCut(distList,distPercent):\n",
    "    return max(distList) * distPercent / 100"
   ]
  },
  {
   "cell_type": "code",
   "execution_count": 199,
   "metadata": {},
   "outputs": [],
   "source": [
    "def getRho(n,distMatrix,distCut):\n",
    "    rho = np.zeros(n,dtype=float)\n",
    "    for i in range(n-1):\n",
    "        for j in range(i+1,n):\n",
    "            rho[i] = rho[i] + np.exp(-(distMatrix[i, j] / distCut) ** 2)\n",
    "            rho[j] = rho[j] + np.exp(-(distMatrix[i, j] / distCut) ** 2)\n",
    "    return rho"
   ]
  },
  {
   "cell_type": "code",
   "execution_count": 200,
   "metadata": {},
   "outputs": [],
   "source": [
    "def DPCA(n,distMatrix,rho,blockNum):\n",
    "    rhoOrdIndex = np.flipud(np.argsort(rho))\n",
    "    delta = np.zeros(n,dtype=float)\n",
    "    leader = np.ones(n,dtype=int) * int(-1)\n",
    "    maxdist = 0\n",
    "    for ele in range(n):\n",
    "        if distMatrix[rhoOrdIndex[0],ele] > maxdist:\n",
    "            maxdist = distMatrix[rhoOrdIndex[0],ele]\n",
    "    delta[rhoOrdIndex[0]] = maxdist\n",
    "    for i in range(1,n):\n",
    "        mindist = np.inf\n",
    "        minindex = -1\n",
    "        for j in range(i):\n",
    "            if distMatrix[rhoOrdIndex[i],rhoOrdIndex[j]] < mindist:\n",
    "                mindist = distMatrix[rhoOrdIndex[i],rhoOrdIndex[j]]\n",
    "                minindex = rhoOrdIndex[j]\n",
    "        delta[rhoOrdIndex[i]] = mindist\n",
    "        leader[rhoOrdIndex[i]] = minindex\n",
    "    gamma = delta * rho\n",
    "    gammaOrdIdx = np.flipud(np.argsort(gamma))\n",
    "    clusterIdx = np.ones(n,dtype=int) * (-1)\n",
    "    for k in range(blockNum):\n",
    "        clusterIdx[gammaOrdIdx[k]] = k\n",
    "    for i in range(n):\n",
    "        if clusterIdx[rhoOrdIndex[i]] == -1:\n",
    "            clusterIdx[rhoOrdIndex[i]] = clusterIdx[leader[rhoOrdIndex[i]]]\n",
    "    clusterSet = OrderedDict()\n",
    "    for k in range(blockNum):\n",
    "        clusterSet[k] = []\n",
    "    for i in range(n):\n",
    "        clusterSet[clusterIdx[i]].append(i)\n",
    "    return clusterSet\n"
   ]
  },
  {
   "cell_type": "code",
   "execution_count": 201,
   "metadata": {},
   "outputs": [],
   "source": [
    "def getDistanceMatrix(datas):\n",
    "    N,D = np.shape(datas)\n",
    "    dists = np.zeros([N,N])\n",
    "    \n",
    "    for i in range(N):\n",
    "        for j in range(N):\n",
    "            vi = datas[i,:]\n",
    "            vj = datas[j,:]\n",
    "            dists[i,j]= np.sqrt(np.dot((vi-vj),(vi-vj)))\n",
    "    return dists"
   ]
  },
  {
   "cell_type": "code",
   "execution_count": 202,
   "metadata": {},
   "outputs": [],
   "source": [
    "def select_dc(dists):    \n",
    "    N = np.shape(dists)[0]\n",
    "    tt = np.reshape(dists,N*N)\n",
    "    percent = 2.0\n",
    "    position = int(N * (N - 1) * percent / 100)\n",
    "    dc = np.sort(tt)[position  + N]\n",
    "    \n",
    "    return dc"
   ]
  },
  {
   "cell_type": "code",
   "execution_count": 203,
   "metadata": {},
   "outputs": [],
   "source": [
    "def get_density(dists,dc,method=None):\n",
    "    N = np.shape(dists)[0]\n",
    "    rho = np.zeros(N)\n",
    "    \n",
    "    for i in range(N):\n",
    "        if method == None:\n",
    "            rho[i]  = np.where(dists[i,:]<dc)[0].shape[0]-1\n",
    "        else:\n",
    "            rho[i] = np.sum(np.exp(-(dists[i,:]/dc)**2))-1\n",
    "    return rho"
   ]
  },
  {
   "cell_type": "code",
   "execution_count": 204,
   "metadata": {},
   "outputs": [],
   "source": [
    "def get_deltas(dists,rho):\n",
    "    N = np.shape(dists)[0]\n",
    "    deltas = np.zeros(N)\n",
    "    nearest_neiber = np.zeros(N)\n",
    "\n",
    "    index_rho = np.argsort(-rho)\n",
    "    for i,index in enumerate(index_rho):\n",
    "\n",
    "        if i==0:\n",
    "            continue\n",
    "  \n",
    "        index_higher_rho = index_rho[:i]\n",
    " \n",
    "        deltas[index] = np.min(dists[index,index_higher_rho])\n",
    "        \n",
    "        index_nn = np.argmin(dists[index,index_higher_rho])\n",
    "        nearest_neiber[index] = index_higher_rho[index_nn].astype(int)\n",
    "    \n",
    "    deltas[index_rho[0]] = np.max(deltas)   \n",
    "    return deltas,nearest_neiber"
   ]
  },
  {
   "cell_type": "code",
   "execution_count": 205,
   "metadata": {},
   "outputs": [],
   "source": [
    "def find_centers_auto(rho,deltas):\n",
    "    rho_threshold = (np.min(rho) + np.max(rho))/ 2\n",
    "    delta_threshold  = (np.min(deltas) + np.max(deltas))/ 2\n",
    "    N = np.shape(rho)[0]\n",
    "    \n",
    "    centers = []\n",
    "    for i in range(N):\n",
    "        if rho[i]>=rho_threshold and deltas[i]>delta_threshold:\n",
    "            centers.append(i)\n",
    "    return np.array(centers)"
   ]
  },
  {
   "cell_type": "code",
   "execution_count": 206,
   "metadata": {},
   "outputs": [],
   "source": [
    "def find_centers_K(rho,deltas,K):\n",
    "    rho_delta = rho*deltas\n",
    "    centers = np.argsort(-rho_delta)\n",
    "    return centers[:K]"
   ]
  },
  {
   "cell_type": "code",
   "execution_count": 207,
   "metadata": {},
   "outputs": [],
   "source": [
    "def cluster_PD(rho,centers,nearest_neiber):\n",
    "    K = np.shape(centers)[0]\n",
    "    if K == 0:\n",
    "        print(\"can not find centers\")\n",
    "        return\n",
    "    \n",
    "    N = np.shape(rho)[0]\n",
    "    labs = -1*np.ones(N).astype(int)\n",
    "    \n",
    "\n",
    "    for i, center in enumerate(centers):\n",
    "        labs[center] = i\n",
    "   \n",
    "\n",
    "    index_rho = np.argsort(-rho)\n",
    "    for i, index in enumerate(index_rho):\n",
    "\n",
    "        if labs[index] == -1:\n",
    "            labs[index] = labs[int(nearest_neiber[index])]\n",
    "    return labs"
   ]
  },
  {
   "cell_type": "code",
   "execution_count": 208,
   "metadata": {},
   "outputs": [],
   "source": [
    "def draw_decision(rho,deltas,name=\"1.jpg\"):       \n",
    "    plt.cla()\n",
    "    for i in range(np.shape(df)[0]):\n",
    "        plt.scatter(rho[i],deltas[i],s=16.,color=(0,0,0))\n",
    "        plt.annotate(str(i), xy = (rho[i], deltas[i]),xytext = (rho[i], deltas[i]))\n",
    "        plt.xlabel(\"rho\")\n",
    "        plt.ylabel(\"deltas\")\n",
    "    plt.savefig(name)\n",
    "    plt.show()"
   ]
  },
  {
   "cell_type": "code",
   "execution_count": 209,
   "metadata": {},
   "outputs": [],
   "source": [
    "def draw_cluster(datas,labs,centers, dic_colors, name=\"1.jpg\"):     \n",
    "    plt.cla()\n",
    "    K = np.shape(centers)[0]\n",
    "    \n",
    "    for k in range(K):\n",
    "        sub_index = np.where(labs == k)\n",
    "        sub_datas = datas[sub_index]\n",
    "        plt.scatter(sub_datas[:,0],sub_datas[:,1],s=16.,color=dic_colors[k])\n",
    "        plt.scatter(datas[centers[k],0],datas[centers[k],1],color=\"k\",marker=\"+\",s = 200.)\n",
    "    plt.savefig(name)\n",
    "    plt.show()"
   ]
  },
  {
   "cell_type": "code",
   "execution_count": 210,
   "metadata": {},
   "outputs": [],
   "source": [
    "tmp = pd.DataFrame(df)\n",
    "tmp = tmp.to_csv('temp.csv')"
   ]
  },
  {
   "cell_type": "code",
   "execution_count": 211,
   "metadata": {},
   "outputs": [
    {
     "name": "stdout",
     "output_type": "stream",
     "text": [
      "number 39.78327178955078\n"
     ]
    },
    {
     "data": {
      "image/png": "[encoded data removed]",
      "text/plain": [
       "<Figure size 640x480 with 1 Axes>"
      ]
     },
     "metadata": {},
     "output_type": "display_data"
    },
    {
     "name": "stdout",
     "output_type": "stream",
     "text": [
      "cluster-centers [133 186  85]\n"
     ]
    },
    {
     "data": {
      "image/png": "[encoded data removed]",
      "text/plain": [
       "<Figure size 640x480 with 1 Axes>"
      ]
     },
     "metadata": {},
     "output_type": "display_data"
    }
   ],
   "source": [
    "dic_colors = {0:(.8,0,0),1:(0,.8,0),\n",
    "                  2:(0,0,.8),3:(.8,.8,0),\n",
    "                  4:(.8,0,.8),5:(0,.8,.8),\n",
    "                  7:(0,0,0)}\n",
    "file_name = \"DPCA\"    \n",
    "\n",
    "with open(r'temp.csv', 'r') as fc:   \n",
    "        reader = csv.reader(fc)\n",
    "        lines1 = []\n",
    "        for line in reader:\n",
    "            lines1.append(line)\n",
    "lines = lines1[1:]\n",
    "datas = np.array(lines).astype(np.float32)\n",
    "dists = getDistanceMatrix(datas)\n",
    "dc = select_dc(dists)\n",
    "print(\"number\",dc)\n",
    "rho = get_density(dists,dc,method=\"Gaussion\")# we can use other distance such as 'manhattan_distance'\n",
    "deltas, nearest_neiber= get_deltas(dists,rho)\n",
    "draw_decision(rho,deltas,name=file_name+\"_decision.jpg\")\n",
    "centers = find_centers_K(rho,deltas,3)\n",
    "print(\"cluster-centers\",centers)\n",
    "labs = cluster_PD(rho,centers,nearest_neiber)\n",
    "draw_cluster(datas,labs,centers, dic_colors, name=file_name+\"_cluster-result.jpg\") "
   ]
  },
  {
   "cell_type": "markdown",
   "metadata": {},
   "source": [
    "# So sánh DBSCAN và KMeans"
   ]
  },
  {
   "cell_type": "markdown",
   "metadata": {},
   "source": [
    "# KMeans\n",
    "### 1. Các cụm được hình thành có dạng hình cầu hoặc lồi ít nhiều và phải có cùng kích thước đặc trưng.\n",
    "### 2. Phân cụm K-means nhạy cảm với số lượng cụm được chỉ định\n",
    "### 3. K-means Phân cụm hiệu quả hơn đối với các tập dữ liệu lớn\n",
    "### 4. K-mean Clustering không hoạt động tốt với các giá trị ngoại lệ và bộ dữ liệu nhiễu.\n",
    "### 5. Trong lĩnh vực phát hiện bất thường, thuật toán này gây ra vấn đề vì các điểm bất thường sẽ được gán cho cùng một cụm với các điểm dữ liệu “bình thường”\n",
    "### 6. Nó yêu cầu một tham số: Số cụm (K)\n",
    "### 7. Mật độ khác nhau của các điểm dữ liệu không ảnh hưởng đến thuật toán phân cụm K-means.\n"
   ]
  },
  {
   "cell_type": "markdown",
   "metadata": {},
   "source": [
    "# DBSCAN\n",
    "### 1. Các cụm được hình thành có hình dạng tùy ý và có thể không có cùng kích thước tính năng.\n",
    "### 2. Số lượng cụm không cần phải được chỉ định.\n",
    "### 3. DBSCan Clustering không thể xử lý hiệu quả các bộ dữ liệu chiều cao.\n",
    "### 4. Phân cụm DBScan xử lý hiệu quả các giá trị ngoại lai và bộ dữ liệu nhiễu.\n",
    "### 5. Mặt khác, thuật toán DBScan định vị các vùng có mật độ cao được phân tách với nhau bằng các vùng có mật độ thấp.\n",
    "### 6. Nó yêu cầu hai tham số: Bán kính (R) và Điểm tối thiểu (M)\n",
    "### R xác định bán kính đã chọn sao cho nếu nó bao gồm đủ điểm bên trong nó, thì đó là một khu vực dày đặc.\n",
    "### M xác định số điểm dữ liệu tối thiểu cần có trong một vùng lân cận để được xác định là một cụm.\n",
    "### 7. Phân cụm DBScan không hoạt động tốt cho các bộ dữ liệu thưa thớt hoặc cho các điểm dữ liệu có mật độ khác nhau.\n"
   ]
  }
 ],
 "metadata": {
  "kernelspec": {
   "display_name": "Python 3.11.0 64-bit",
   "language": "python",
   "name": "python3"
  },
  "language_info": {
   "codemirror_mode": {
    "name": "ipython",
    "version": 3
   },
   "file_extension": ".py",
   "mimetype": "text/x-python",
   "name": "python",
   "nbconvert_exporter": "python",
   "pygments_lexer": "ipython3",
   "version": "3.11.0"
  },
  "orig_nbformat": 4,
  "vscode": {
   "interpreter": {
    "hash": "5ffd7eb2cebf9ac436b5021ba01877e9cee6b03524e01bf8c8637d3e64111215"
   }
  }
 },
 "nbformat": 4,
 "nbformat_minor": 2
}
